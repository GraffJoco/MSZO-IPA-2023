{
 "cells": [
  {
   "cell_type": "code",
   "execution_count": 1,
   "metadata": {},
   "outputs": [
    {
     "data": {
      "text/html": [
       "<pre style=\"white-space:pre;overflow-x:auto;line-height:normal;font-family:Menlo,'DejaVu Sans Mono',consolas,'Courier New',monospace\">Manim Community <span style=\"color: #008000; text-decoration-color: #008000\">v0.17.2</span>\n",
       "\n",
       "</pre>\n"
      ],
      "text/plain": [
       "Manim Community \u001b[32mv0.\u001b[0m\u001b[32m17.2\u001b[0m\n",
       "\n"
      ]
     },
     "metadata": {},
     "output_type": "display_data"
    }
   ],
   "source": [
    "from manim import *"
   ]
  },
  {
   "cell_type": "code",
   "execution_count": 3,
   "metadata": {},
   "outputs": [
    {
     "data": {
      "text/html": [
       "<pre style=\"white-space:pre;overflow-x:auto;line-height:normal;font-family:Menlo,'DejaVu Sans Mono',consolas,'Courier New',monospace\"><span style=\"color: #7fbfbf; text-decoration-color: #7fbfbf\">[03/30/23 10:44:35] </span><span style=\"color: #008000; text-decoration-color: #008000\">INFO    </span> Animation <span style=\"color: #008000; text-decoration-color: #008000\">0</span> : Using cached data <span style=\"font-weight: bold\">(</span>hash :                           <a href=\"file://C:\\tools\\Manim\\Lib\\site-packages\\manim\\renderer\\cairo_renderer.py\" target=\"_blank\"><span style=\"color: #7f7f7f; text-decoration-color: #7f7f7f\">cairo_renderer.py</span></a><span style=\"color: #7f7f7f; text-decoration-color: #7f7f7f\">:</span><a href=\"file://C:\\tools\\Manim\\Lib\\site-packages\\manim\\renderer\\cairo_renderer.py#78\" target=\"_blank\"><span style=\"color: #7f7f7f; text-decoration-color: #7f7f7f\">78</span></a>\n",
       "<span style=\"color: #7fbfbf; text-decoration-color: #7fbfbf\">                    </span>         274514146_1986113687_223132457<span style=\"font-weight: bold\">)</span>                                   <span style=\"color: #7f7f7f; text-decoration-color: #7f7f7f\">                    </span>\n",
       "</pre>\n"
      ],
      "text/plain": [
       "\u001b[2;36m[03/30/23 10:44:35]\u001b[0m\u001b[2;36m \u001b[0m\u001b[32mINFO    \u001b[0m Animation \u001b[32m0\u001b[0m : Using cached data \u001b[1m(\u001b[0mhash :                           \u001b]8;id=24350;file://C:\\tools\\Manim\\Lib\\site-packages\\manim\\renderer\\cairo_renderer.py\u001b\\\u001b[2mcairo_renderer.py\u001b[0m\u001b]8;;\u001b\\\u001b[2m:\u001b[0m\u001b]8;id=608705;file://C:\\tools\\Manim\\Lib\\site-packages\\manim\\renderer\\cairo_renderer.py#78\u001b\\\u001b[2m78\u001b[0m\u001b]8;;\u001b\\\n",
       "\u001b[2;36m                    \u001b[0m         274514146_1986113687_223132457\u001b[1m)\u001b[0m                                   \u001b[2m                    \u001b[0m\n"
      ]
     },
     "metadata": {},
     "output_type": "display_data"
    },
    {
     "name": "stderr",
     "output_type": "stream",
     "text": [
      "                                                                                      \r"
     ]
    },
    {
     "data": {
      "text/html": [
       "<pre style=\"white-space:pre;overflow-x:auto;line-height:normal;font-family:Menlo,'DejaVu Sans Mono',consolas,'Courier New',monospace\"><span style=\"color: #7fbfbf; text-decoration-color: #7fbfbf\">[03/30/23 10:44:36] </span><span style=\"color: #008000; text-decoration-color: #008000\">INFO    </span> Animation <span style=\"color: #008000; text-decoration-color: #008000\">1</span> : Using cached data <span style=\"font-weight: bold\">(</span>hash :                           <a href=\"file://C:\\tools\\Manim\\Lib\\site-packages\\manim\\renderer\\cairo_renderer.py\" target=\"_blank\"><span style=\"color: #7f7f7f; text-decoration-color: #7f7f7f\">cairo_renderer.py</span></a><span style=\"color: #7f7f7f; text-decoration-color: #7f7f7f\">:</span><a href=\"file://C:\\tools\\Manim\\Lib\\site-packages\\manim\\renderer\\cairo_renderer.py#78\" target=\"_blank\"><span style=\"color: #7f7f7f; text-decoration-color: #7f7f7f\">78</span></a>\n",
       "<span style=\"color: #7fbfbf; text-decoration-color: #7fbfbf\">                    </span>         2789044632_1076466279_2988202215<span style=\"font-weight: bold\">)</span>                                 <span style=\"color: #7f7f7f; text-decoration-color: #7f7f7f\">                    </span>\n",
       "</pre>\n"
      ],
      "text/plain": [
       "\u001b[2;36m[03/30/23 10:44:36]\u001b[0m\u001b[2;36m \u001b[0m\u001b[32mINFO    \u001b[0m Animation \u001b[32m1\u001b[0m : Using cached data \u001b[1m(\u001b[0mhash :                           \u001b]8;id=605641;file://C:\\tools\\Manim\\Lib\\site-packages\\manim\\renderer\\cairo_renderer.py\u001b\\\u001b[2mcairo_renderer.py\u001b[0m\u001b]8;;\u001b\\\u001b[2m:\u001b[0m\u001b]8;id=74848;file://C:\\tools\\Manim\\Lib\\site-packages\\manim\\renderer\\cairo_renderer.py#78\u001b\\\u001b[2m78\u001b[0m\u001b]8;;\u001b\\\n",
       "\u001b[2;36m                    \u001b[0m         2789044632_1076466279_2988202215\u001b[1m)\u001b[0m                                 \u001b[2m                    \u001b[0m\n"
      ]
     },
     "metadata": {},
     "output_type": "display_data"
    },
    {
     "data": {
      "text/html": [
       "<pre style=\"white-space:pre;overflow-x:auto;line-height:normal;font-family:Menlo,'DejaVu Sans Mono',consolas,'Courier New',monospace\"><span style=\"color: #7fbfbf; text-decoration-color: #7fbfbf\">                    </span><span style=\"color: #008000; text-decoration-color: #008000\">INFO    </span> Animation <span style=\"color: #008000; text-decoration-color: #008000\">2</span> : Using cached data <span style=\"font-weight: bold\">(</span>hash :                           <a href=\"file://C:\\tools\\Manim\\Lib\\site-packages\\manim\\renderer\\cairo_renderer.py\" target=\"_blank\"><span style=\"color: #7f7f7f; text-decoration-color: #7f7f7f\">cairo_renderer.py</span></a><span style=\"color: #7f7f7f; text-decoration-color: #7f7f7f\">:</span><a href=\"file://C:\\tools\\Manim\\Lib\\site-packages\\manim\\renderer\\cairo_renderer.py#78\" target=\"_blank\"><span style=\"color: #7f7f7f; text-decoration-color: #7f7f7f\">78</span></a>\n",
       "<span style=\"color: #7fbfbf; text-decoration-color: #7fbfbf\">                    </span>         2789044632_2839993261_3459097414<span style=\"font-weight: bold\">)</span>                                 <span style=\"color: #7f7f7f; text-decoration-color: #7f7f7f\">                    </span>\n",
       "</pre>\n"
      ],
      "text/plain": [
       "\u001b[2;36m                   \u001b[0m\u001b[2;36m \u001b[0m\u001b[32mINFO    \u001b[0m Animation \u001b[32m2\u001b[0m : Using cached data \u001b[1m(\u001b[0mhash :                           \u001b]8;id=535455;file://C:\\tools\\Manim\\Lib\\site-packages\\manim\\renderer\\cairo_renderer.py\u001b\\\u001b[2mcairo_renderer.py\u001b[0m\u001b]8;;\u001b\\\u001b[2m:\u001b[0m\u001b]8;id=420406;file://C:\\tools\\Manim\\Lib\\site-packages\\manim\\renderer\\cairo_renderer.py#78\u001b\\\u001b[2m78\u001b[0m\u001b]8;;\u001b\\\n",
       "\u001b[2;36m                    \u001b[0m         2789044632_2839993261_3459097414\u001b[1m)\u001b[0m                                 \u001b[2m                    \u001b[0m\n"
      ]
     },
     "metadata": {},
     "output_type": "display_data"
    },
    {
     "name": "stderr",
     "output_type": "stream",
     "text": [
      "                                                                                                \r"
     ]
    },
    {
     "data": {
      "text/html": [
       "<pre style=\"white-space:pre;overflow-x:auto;line-height:normal;font-family:Menlo,'DejaVu Sans Mono',consolas,'Courier New',monospace\"><span style=\"color: #7fbfbf; text-decoration-color: #7fbfbf\">[03/30/23 10:44:37] </span><span style=\"color: #008000; text-decoration-color: #008000\">INFO    </span> Animation <span style=\"color: #008000; text-decoration-color: #008000\">3</span> : Using cached data <span style=\"font-weight: bold\">(</span>hash :                           <a href=\"file://C:\\tools\\Manim\\Lib\\site-packages\\manim\\renderer\\cairo_renderer.py\" target=\"_blank\"><span style=\"color: #7f7f7f; text-decoration-color: #7f7f7f\">cairo_renderer.py</span></a><span style=\"color: #7f7f7f; text-decoration-color: #7f7f7f\">:</span><a href=\"file://C:\\tools\\Manim\\Lib\\site-packages\\manim\\renderer\\cairo_renderer.py#78\" target=\"_blank\"><span style=\"color: #7f7f7f; text-decoration-color: #7f7f7f\">78</span></a>\n",
       "<span style=\"color: #7fbfbf; text-decoration-color: #7fbfbf\">                    </span>         2789044632_3794883229_299303181<span style=\"font-weight: bold\">)</span>                                  <span style=\"color: #7f7f7f; text-decoration-color: #7f7f7f\">                    </span>\n",
       "</pre>\n"
      ],
      "text/plain": [
       "\u001b[2;36m[03/30/23 10:44:37]\u001b[0m\u001b[2;36m \u001b[0m\u001b[32mINFO    \u001b[0m Animation \u001b[32m3\u001b[0m : Using cached data \u001b[1m(\u001b[0mhash :                           \u001b]8;id=31171;file://C:\\tools\\Manim\\Lib\\site-packages\\manim\\renderer\\cairo_renderer.py\u001b\\\u001b[2mcairo_renderer.py\u001b[0m\u001b]8;;\u001b\\\u001b[2m:\u001b[0m\u001b]8;id=173098;file://C:\\tools\\Manim\\Lib\\site-packages\\manim\\renderer\\cairo_renderer.py#78\u001b\\\u001b[2m78\u001b[0m\u001b]8;;\u001b\\\n",
       "\u001b[2;36m                    \u001b[0m         2789044632_3794883229_299303181\u001b[1m)\u001b[0m                                  \u001b[2m                    \u001b[0m\n"
      ]
     },
     "metadata": {},
     "output_type": "display_data"
    },
    {
     "name": "stderr",
     "output_type": "stream",
     "text": [
      "                                                                        \r"
     ]
    },
    {
     "data": {
      "text/html": [
       "<pre style=\"white-space:pre;overflow-x:auto;line-height:normal;font-family:Menlo,'DejaVu Sans Mono',consolas,'Courier New',monospace\"><span style=\"color: #7fbfbf; text-decoration-color: #7fbfbf\">[03/30/23 10:44:38] </span><span style=\"color: #008000; text-decoration-color: #008000\">INFO    </span> Animation <span style=\"color: #008000; text-decoration-color: #008000\">4</span> : Using cached data <span style=\"font-weight: bold\">(</span>hash :                           <a href=\"file://C:\\tools\\Manim\\Lib\\site-packages\\manim\\renderer\\cairo_renderer.py\" target=\"_blank\"><span style=\"color: #7f7f7f; text-decoration-color: #7f7f7f\">cairo_renderer.py</span></a><span style=\"color: #7f7f7f; text-decoration-color: #7f7f7f\">:</span><a href=\"file://C:\\tools\\Manim\\Lib\\site-packages\\manim\\renderer\\cairo_renderer.py#78\" target=\"_blank\"><span style=\"color: #7f7f7f; text-decoration-color: #7f7f7f\">78</span></a>\n",
       "<span style=\"color: #7fbfbf; text-decoration-color: #7fbfbf\">                    </span>         2789044632_2245654855_1929664764<span style=\"font-weight: bold\">)</span>                                 <span style=\"color: #7f7f7f; text-decoration-color: #7f7f7f\">                    </span>\n",
       "</pre>\n"
      ],
      "text/plain": [
       "\u001b[2;36m[03/30/23 10:44:38]\u001b[0m\u001b[2;36m \u001b[0m\u001b[32mINFO    \u001b[0m Animation \u001b[32m4\u001b[0m : Using cached data \u001b[1m(\u001b[0mhash :                           \u001b]8;id=486760;file://C:\\tools\\Manim\\Lib\\site-packages\\manim\\renderer\\cairo_renderer.py\u001b\\\u001b[2mcairo_renderer.py\u001b[0m\u001b]8;;\u001b\\\u001b[2m:\u001b[0m\u001b]8;id=348051;file://C:\\tools\\Manim\\Lib\\site-packages\\manim\\renderer\\cairo_renderer.py#78\u001b\\\u001b[2m78\u001b[0m\u001b]8;;\u001b\\\n",
       "\u001b[2;36m                    \u001b[0m         2789044632_2245654855_1929664764\u001b[1m)\u001b[0m                                 \u001b[2m                    \u001b[0m\n"
      ]
     },
     "metadata": {},
     "output_type": "display_data"
    },
    {
     "name": "stderr",
     "output_type": "stream",
     "text": [
      "                                                                                      \r"
     ]
    },
    {
     "data": {
      "text/html": [
       "<pre style=\"white-space:pre;overflow-x:auto;line-height:normal;font-family:Menlo,'DejaVu Sans Mono',consolas,'Courier New',monospace\"><span style=\"color: #7fbfbf; text-decoration-color: #7fbfbf\">[03/30/23 10:44:40] </span><span style=\"color: #008000; text-decoration-color: #008000\">INFO    </span> Animation <span style=\"color: #008000; text-decoration-color: #008000\">5</span> : Partial movie file written in                   <a href=\"file://C:\\tools\\Manim\\Lib\\site-packages\\manim\\scene\\scene_file_writer.py\" target=\"_blank\"><span style=\"color: #7f7f7f; text-decoration-color: #7f7f7f\">scene_file_writer.py</span></a><span style=\"color: #7f7f7f; text-decoration-color: #7f7f7f\">:</span><a href=\"file://C:\\tools\\Manim\\Lib\\site-packages\\manim\\scene\\scene_file_writer.py#527\" target=\"_blank\"><span style=\"color: #7f7f7f; text-decoration-color: #7f7f7f\">527</span></a>\n",
       "<span style=\"color: #7fbfbf; text-decoration-color: #7fbfbf\">                    </span>         <span style=\"color: #008000; text-decoration-color: #008000\">'C:\\Yokota_Adan\\Egyetem\\mszo\\IPA\\MSZO-IPA-2023\\Video1\\Bevezet</span> <span style=\"color: #7f7f7f; text-decoration-color: #7f7f7f\">                        </span>\n",
       "<span style=\"color: #7fbfbf; text-decoration-color: #7fbfbf\">                    </span>         <span style=\"color: #008000; text-decoration-color: #008000\">es,alapfogalmak\\media\\videos\\Bevezetes,alapfogalmak\\720p30\\pa</span> <span style=\"color: #7f7f7f; text-decoration-color: #7f7f7f\">                        </span>\n",
       "<span style=\"color: #7fbfbf; text-decoration-color: #7fbfbf\">                    </span>         <span style=\"color: #008000; text-decoration-color: #008000\">rtial_movie_files\\bev\\2789044632_329969645_3955553208.mp4'</span>    <span style=\"color: #7f7f7f; text-decoration-color: #7f7f7f\">                        </span>\n",
       "</pre>\n"
      ],
      "text/plain": [
       "\u001b[2;36m[03/30/23 10:44:40]\u001b[0m\u001b[2;36m \u001b[0m\u001b[32mINFO    \u001b[0m Animation \u001b[32m5\u001b[0m : Partial movie file written in                   \u001b]8;id=226762;file://C:\\tools\\Manim\\Lib\\site-packages\\manim\\scene\\scene_file_writer.py\u001b\\\u001b[2mscene_file_writer.py\u001b[0m\u001b]8;;\u001b\\\u001b[2m:\u001b[0m\u001b]8;id=565345;file://C:\\tools\\Manim\\Lib\\site-packages\\manim\\scene\\scene_file_writer.py#527\u001b\\\u001b[2m527\u001b[0m\u001b]8;;\u001b\\\n",
       "\u001b[2;36m                    \u001b[0m         \u001b[32m'C:\\Yokota_Adan\\Egyetem\\mszo\\IPA\\MSZO-IPA-2023\\Video1\\Bevezet\u001b[0m \u001b[2m                        \u001b[0m\n",
       "\u001b[2;36m                    \u001b[0m         \u001b[32mes,alapfogalmak\\media\\videos\\Bevezetes,alapfogalmak\\720p30\\pa\u001b[0m \u001b[2m                        \u001b[0m\n",
       "\u001b[2;36m                    \u001b[0m         \u001b[32mrtial_movie_files\\bev\\2789044632_329969645_3955553208.mp4'\u001b[0m    \u001b[2m                        \u001b[0m\n"
      ]
     },
     "metadata": {},
     "output_type": "display_data"
    },
    {
     "name": "stderr",
     "output_type": "stream",
     "text": [
      "                                                                                                       \r"
     ]
    },
    {
     "data": {
      "text/html": [
       "<pre style=\"white-space:pre;overflow-x:auto;line-height:normal;font-family:Menlo,'DejaVu Sans Mono',consolas,'Courier New',monospace\"><span style=\"color: #7fbfbf; text-decoration-color: #7fbfbf\">[03/30/23 10:44:43] </span><span style=\"color: #008000; text-decoration-color: #008000\">INFO    </span> Animation <span style=\"color: #008000; text-decoration-color: #008000\">6</span> : Partial movie file written in                   <a href=\"file://C:\\tools\\Manim\\Lib\\site-packages\\manim\\scene\\scene_file_writer.py\" target=\"_blank\"><span style=\"color: #7f7f7f; text-decoration-color: #7f7f7f\">scene_file_writer.py</span></a><span style=\"color: #7f7f7f; text-decoration-color: #7f7f7f\">:</span><a href=\"file://C:\\tools\\Manim\\Lib\\site-packages\\manim\\scene\\scene_file_writer.py#527\" target=\"_blank\"><span style=\"color: #7f7f7f; text-decoration-color: #7f7f7f\">527</span></a>\n",
       "<span style=\"color: #7fbfbf; text-decoration-color: #7fbfbf\">                    </span>         <span style=\"color: #008000; text-decoration-color: #008000\">'C:\\Yokota_Adan\\Egyetem\\mszo\\IPA\\MSZO-IPA-2023\\Video1\\Bevezet</span> <span style=\"color: #7f7f7f; text-decoration-color: #7f7f7f\">                        </span>\n",
       "<span style=\"color: #7fbfbf; text-decoration-color: #7fbfbf\">                    </span>         <span style=\"color: #008000; text-decoration-color: #008000\">es,alapfogalmak\\media\\videos\\Bevezetes,alapfogalmak\\720p30\\pa</span> <span style=\"color: #7f7f7f; text-decoration-color: #7f7f7f\">                        </span>\n",
       "<span style=\"color: #7fbfbf; text-decoration-color: #7fbfbf\">                    </span>         <span style=\"color: #008000; text-decoration-color: #008000\">rtial_movie_files\\bev\\2789044632_2912861085_1242462538.mp4'</span>   <span style=\"color: #7f7f7f; text-decoration-color: #7f7f7f\">                        </span>\n",
       "</pre>\n"
      ],
      "text/plain": [
       "\u001b[2;36m[03/30/23 10:44:43]\u001b[0m\u001b[2;36m \u001b[0m\u001b[32mINFO    \u001b[0m Animation \u001b[32m6\u001b[0m : Partial movie file written in                   \u001b]8;id=901851;file://C:\\tools\\Manim\\Lib\\site-packages\\manim\\scene\\scene_file_writer.py\u001b\\\u001b[2mscene_file_writer.py\u001b[0m\u001b]8;;\u001b\\\u001b[2m:\u001b[0m\u001b]8;id=129525;file://C:\\tools\\Manim\\Lib\\site-packages\\manim\\scene\\scene_file_writer.py#527\u001b\\\u001b[2m527\u001b[0m\u001b]8;;\u001b\\\n",
       "\u001b[2;36m                    \u001b[0m         \u001b[32m'C:\\Yokota_Adan\\Egyetem\\mszo\\IPA\\MSZO-IPA-2023\\Video1\\Bevezet\u001b[0m \u001b[2m                        \u001b[0m\n",
       "\u001b[2;36m                    \u001b[0m         \u001b[32mes,alapfogalmak\\media\\videos\\Bevezetes,alapfogalmak\\720p30\\pa\u001b[0m \u001b[2m                        \u001b[0m\n",
       "\u001b[2;36m                    \u001b[0m         \u001b[32mrtial_movie_files\\bev\\2789044632_2912861085_1242462538.mp4'\u001b[0m   \u001b[2m                        \u001b[0m\n"
      ]
     },
     "metadata": {},
     "output_type": "display_data"
    },
    {
     "data": {
      "text/html": [
       "<pre style=\"white-space:pre;overflow-x:auto;line-height:normal;font-family:Menlo,'DejaVu Sans Mono',consolas,'Courier New',monospace\"><span style=\"color: #7fbfbf; text-decoration-color: #7fbfbf\">                    </span><span style=\"color: #008000; text-decoration-color: #008000\">INFO    </span> Combining to Movie file.                                      <a href=\"file://C:\\tools\\Manim\\Lib\\site-packages\\manim\\scene\\scene_file_writer.py\" target=\"_blank\"><span style=\"color: #7f7f7f; text-decoration-color: #7f7f7f\">scene_file_writer.py</span></a><span style=\"color: #7f7f7f; text-decoration-color: #7f7f7f\">:</span><a href=\"file://C:\\tools\\Manim\\Lib\\site-packages\\manim\\scene\\scene_file_writer.py#617\" target=\"_blank\"><span style=\"color: #7f7f7f; text-decoration-color: #7f7f7f\">617</span></a>\n",
       "</pre>\n"
      ],
      "text/plain": [
       "\u001b[2;36m                   \u001b[0m\u001b[2;36m \u001b[0m\u001b[32mINFO    \u001b[0m Combining to Movie file.                                      \u001b]8;id=340200;file://C:\\tools\\Manim\\Lib\\site-packages\\manim\\scene\\scene_file_writer.py\u001b\\\u001b[2mscene_file_writer.py\u001b[0m\u001b]8;;\u001b\\\u001b[2m:\u001b[0m\u001b]8;id=522162;file://C:\\tools\\Manim\\Lib\\site-packages\\manim\\scene\\scene_file_writer.py#617\u001b\\\u001b[2m617\u001b[0m\u001b]8;;\u001b\\\n"
      ]
     },
     "metadata": {},
     "output_type": "display_data"
    },
    {
     "data": {
      "text/html": [
       "<pre style=\"white-space:pre;overflow-x:auto;line-height:normal;font-family:Menlo,'DejaVu Sans Mono',consolas,'Courier New',monospace\"><span style=\"color: #7fbfbf; text-decoration-color: #7fbfbf\">                    </span><span style=\"color: #008000; text-decoration-color: #008000\">INFO    </span>                                                               <a href=\"file://C:\\tools\\Manim\\Lib\\site-packages\\manim\\scene\\scene_file_writer.py\" target=\"_blank\"><span style=\"color: #7f7f7f; text-decoration-color: #7f7f7f\">scene_file_writer.py</span></a><span style=\"color: #7f7f7f; text-decoration-color: #7f7f7f\">:</span><a href=\"file://C:\\tools\\Manim\\Lib\\site-packages\\manim\\scene\\scene_file_writer.py#736\" target=\"_blank\"><span style=\"color: #7f7f7f; text-decoration-color: #7f7f7f\">736</span></a>\n",
       "<span style=\"color: #7fbfbf; text-decoration-color: #7fbfbf\">                    </span>         <span style=\"color: #808000; text-decoration-color: #808000; font-weight: bold\">File</span> ready at                                                 <span style=\"color: #7f7f7f; text-decoration-color: #7f7f7f\">                        </span>\n",
       "<span style=\"color: #7fbfbf; text-decoration-color: #7fbfbf\">                    </span>         <span style=\"color: #008000; text-decoration-color: #008000\">'C:\\Yokota_Adan\\Egyetem\\mszo\\IPA\\MSZO-IPA-2023\\Video1\\Bevezet</span> <span style=\"color: #7f7f7f; text-decoration-color: #7f7f7f\">                        </span>\n",
       "<span style=\"color: #7fbfbf; text-decoration-color: #7fbfbf\">                    </span>         <span style=\"color: #008000; text-decoration-color: #008000\">es,alapfogalmak\\media\\videos\\Bevezetes,alapfogalmak\\720p30\\be</span> <span style=\"color: #7f7f7f; text-decoration-color: #7f7f7f\">                        </span>\n",
       "<span style=\"color: #7fbfbf; text-decoration-color: #7fbfbf\">                    </span>         <span style=\"color: #008000; text-decoration-color: #008000\">v.mp4'</span>                                                        <span style=\"color: #7f7f7f; text-decoration-color: #7f7f7f\">                        </span>\n",
       "<span style=\"color: #7fbfbf; text-decoration-color: #7fbfbf\">                    </span>                                                                       <span style=\"color: #7f7f7f; text-decoration-color: #7f7f7f\">                        </span>\n",
       "</pre>\n"
      ],
      "text/plain": [
       "\u001b[2;36m                   \u001b[0m\u001b[2;36m \u001b[0m\u001b[32mINFO    \u001b[0m                                                               \u001b]8;id=529690;file://C:\\tools\\Manim\\Lib\\site-packages\\manim\\scene\\scene_file_writer.py\u001b\\\u001b[2mscene_file_writer.py\u001b[0m\u001b]8;;\u001b\\\u001b[2m:\u001b[0m\u001b]8;id=891610;file://C:\\tools\\Manim\\Lib\\site-packages\\manim\\scene\\scene_file_writer.py#736\u001b\\\u001b[2m736\u001b[0m\u001b]8;;\u001b\\\n",
       "\u001b[2;36m                    \u001b[0m         \u001b[1;33mFile\u001b[0m ready at                                                 \u001b[2m                        \u001b[0m\n",
       "\u001b[2;36m                    \u001b[0m         \u001b[32m'C:\\Yokota_Adan\\Egyetem\\mszo\\IPA\\MSZO-IPA-2023\\Video1\\Bevezet\u001b[0m \u001b[2m                        \u001b[0m\n",
       "\u001b[2;36m                    \u001b[0m         \u001b[32mes,alapfogalmak\\media\\videos\\Bevezetes,alapfogalmak\\720p30\\be\u001b[0m \u001b[2m                        \u001b[0m\n",
       "\u001b[2;36m                    \u001b[0m         \u001b[32mv.mp4'\u001b[0m                                                        \u001b[2m                        \u001b[0m\n",
       "\u001b[2;36m                    \u001b[0m                                                                       \u001b[2m                        \u001b[0m\n"
      ]
     },
     "metadata": {},
     "output_type": "display_data"
    },
    {
     "data": {
      "text/html": [
       "<pre style=\"white-space:pre;overflow-x:auto;line-height:normal;font-family:Menlo,'DejaVu Sans Mono',consolas,'Courier New',monospace\"><span style=\"color: #7fbfbf; text-decoration-color: #7fbfbf\">                    </span><span style=\"color: #008000; text-decoration-color: #008000\">INFO    </span> <span style=\"color: #808000; text-decoration-color: #808000; font-weight: bold\">Rendered</span> bev                                                              <a href=\"file://C:\\tools\\Manim\\Lib\\site-packages\\manim\\scene\\scene.py\" target=\"_blank\"><span style=\"color: #7f7f7f; text-decoration-color: #7f7f7f\">scene.py</span></a><span style=\"color: #7f7f7f; text-decoration-color: #7f7f7f\">:</span><a href=\"file://C:\\tools\\Manim\\Lib\\site-packages\\manim\\scene\\scene.py#241\" target=\"_blank\"><span style=\"color: #7f7f7f; text-decoration-color: #7f7f7f\">241</span></a>\n",
       "<span style=\"color: #7fbfbf; text-decoration-color: #7fbfbf\">                    </span>         <span style=\"color: #808000; text-decoration-color: #808000; font-weight: bold\">Played</span> <span style=\"color: #008000; text-decoration-color: #008000\">7</span> <span style=\"color: #808000; text-decoration-color: #808000; font-weight: bold\">animations</span>                                                       <span style=\"color: #7f7f7f; text-decoration-color: #7f7f7f\">            </span>\n",
       "</pre>\n"
      ],
      "text/plain": [
       "\u001b[2;36m                   \u001b[0m\u001b[2;36m \u001b[0m\u001b[32mINFO    \u001b[0m \u001b[1;33mRendered\u001b[0m bev                                                              \u001b]8;id=120318;file://C:\\tools\\Manim\\Lib\\site-packages\\manim\\scene\\scene.py\u001b\\\u001b[2mscene.py\u001b[0m\u001b]8;;\u001b\\\u001b[2m:\u001b[0m\u001b]8;id=622994;file://C:\\tools\\Manim\\Lib\\site-packages\\manim\\scene\\scene.py#241\u001b\\\u001b[2m241\u001b[0m\u001b]8;;\u001b\\\n",
       "\u001b[2;36m                    \u001b[0m         \u001b[1;33mPlayed\u001b[0m \u001b[32m7\u001b[0m \u001b[1;33manimations\u001b[0m                                                       \u001b[2m            \u001b[0m\n"
      ]
     },
     "metadata": {},
     "output_type": "display_data"
    },
    {
     "data": {
      "text/html": [
       "<video src=\"media\\jupyter\\bev@2023-03-30@10-44-43.mp4\" controls autoplay loop style=\"max-width: 60%;\"  >\n",
       "      Your browser does not support the <code>video</code> element.\n",
       "    </video>"
      ],
      "text/plain": [
       "<IPython.core.display.Video object>"
      ]
     },
     "metadata": {},
     "output_type": "display_data"
    }
   ],
   "source": [
    "%%manim -qm bev \n",
    "\n",
    "class bev(Scene):\n",
    "    def construct(self):\n",
    "        #Intro\n",
    "        Title = Paragraph(\"Informatika és programozás alapjai\", \"konzultáció\",color=BLUE,alignment=\"center\")\n",
    "        TitleUnderLine = Line(start=[-3.2,2.7,0],end=[3.2,2.7,0],color=BLUE)\n",
    "        \n",
    "        self.play(FadeIn(Title))\n",
    "        self.wait(1)\n",
    "\n",
    "        self.play(Title.animate.scale(0.6).shift(3.25 * UP))\n",
    "        self.play(GrowFromCenter(TitleUnderLine))\n",
    "        \n",
    "        Temak = Paragraph(\n",
    "            '- Gyors összefoglaló',\n",
    "            '- Könnyen megérthető/más nyelvben is megtalálható részek',\n",
    "            '- A C nehezebb/egyedi részei', '- Trükkök és tippek',\n",
    "            height=10, width=10, line_spacing=2\n",
    "        )\n",
    "\n",
    "        self.play(Create(Temak),run_time=2)\n",
    "        self.wait()\n",
    "        self.play(FadeOut(Temak),FadeOut(Title),ShrinkToCenter(TitleUnderLine))\n",
    "\n"
   ]
  },
  {
   "cell_type": "code",
   "execution_count": 2,
   "metadata": {},
   "outputs": [
    {
     "data": {
      "text/html": [
       "<pre style=\"white-space:pre;overflow-x:auto;line-height:normal;font-family:Menlo,'DejaVu Sans Mono',consolas,'Courier New',monospace\"><span style=\"color: #7fbfbf; text-decoration-color: #7fbfbf\">[03/30/23 22:31:58] </span><span style=\"color: #008000; text-decoration-color: #008000\">INFO    </span> Animation <span style=\"color: #008000; text-decoration-color: #008000\">0</span> : Using cached data <span style=\"font-weight: bold\">(</span>hash :                           <a href=\"file://C:\\tools\\Manim\\Lib\\site-packages\\manim\\renderer\\cairo_renderer.py\" target=\"_blank\"><span style=\"color: #7f7f7f; text-decoration-color: #7f7f7f\">cairo_renderer.py</span></a><span style=\"color: #7f7f7f; text-decoration-color: #7f7f7f\">:</span><a href=\"file://C:\\tools\\Manim\\Lib\\site-packages\\manim\\renderer\\cairo_renderer.py#78\" target=\"_blank\"><span style=\"color: #7f7f7f; text-decoration-color: #7f7f7f\">78</span></a>\n",
       "<span style=\"color: #7fbfbf; text-decoration-color: #7fbfbf\">                    </span>         274514146_3722606736_223132457<span style=\"font-weight: bold\">)</span>                                   <span style=\"color: #7f7f7f; text-decoration-color: #7f7f7f\">                    </span>\n",
       "</pre>\n"
      ],
      "text/plain": [
       "\u001b[2;36m[03/30/23 22:31:58]\u001b[0m\u001b[2;36m \u001b[0m\u001b[32mINFO    \u001b[0m Animation \u001b[32m0\u001b[0m : Using cached data \u001b[1m(\u001b[0mhash :                           \u001b]8;id=669633;file://C:\\tools\\Manim\\Lib\\site-packages\\manim\\renderer\\cairo_renderer.py\u001b\\\u001b[2mcairo_renderer.py\u001b[0m\u001b]8;;\u001b\\\u001b[2m:\u001b[0m\u001b]8;id=507135;file://C:\\tools\\Manim\\Lib\\site-packages\\manim\\renderer\\cairo_renderer.py#78\u001b\\\u001b[2m78\u001b[0m\u001b]8;;\u001b\\\n",
       "\u001b[2;36m                    \u001b[0m         274514146_3722606736_223132457\u001b[1m)\u001b[0m                                   \u001b[2m                    \u001b[0m\n"
      ]
     },
     "metadata": {},
     "output_type": "display_data"
    },
    {
     "name": "stderr",
     "output_type": "stream",
     "text": [
      "                                                                                \r"
     ]
    },
    {
     "data": {
      "text/html": [
       "<pre style=\"white-space:pre;overflow-x:auto;line-height:normal;font-family:Menlo,'DejaVu Sans Mono',consolas,'Courier New',monospace\"><span style=\"color: #7fbfbf; text-decoration-color: #7fbfbf\">[03/30/23 22:31:59] </span><span style=\"color: #008000; text-decoration-color: #008000\">INFO    </span> Animation <span style=\"color: #008000; text-decoration-color: #008000\">1</span> : Using cached data <span style=\"font-weight: bold\">(</span>hash :                           <a href=\"file://C:\\tools\\Manim\\Lib\\site-packages\\manim\\renderer\\cairo_renderer.py\" target=\"_blank\"><span style=\"color: #7f7f7f; text-decoration-color: #7f7f7f\">cairo_renderer.py</span></a><span style=\"color: #7f7f7f; text-decoration-color: #7f7f7f\">:</span><a href=\"file://C:\\tools\\Manim\\Lib\\site-packages\\manim\\renderer\\cairo_renderer.py#78\" target=\"_blank\"><span style=\"color: #7f7f7f; text-decoration-color: #7f7f7f\">78</span></a>\n",
       "<span style=\"color: #7fbfbf; text-decoration-color: #7fbfbf\">                    </span>         2789044632_125286499_3797541857<span style=\"font-weight: bold\">)</span>                                  <span style=\"color: #7f7f7f; text-decoration-color: #7f7f7f\">                    </span>\n",
       "</pre>\n"
      ],
      "text/plain": [
       "\u001b[2;36m[03/30/23 22:31:59]\u001b[0m\u001b[2;36m \u001b[0m\u001b[32mINFO    \u001b[0m Animation \u001b[32m1\u001b[0m : Using cached data \u001b[1m(\u001b[0mhash :                           \u001b]8;id=213016;file://C:\\tools\\Manim\\Lib\\site-packages\\manim\\renderer\\cairo_renderer.py\u001b\\\u001b[2mcairo_renderer.py\u001b[0m\u001b]8;;\u001b\\\u001b[2m:\u001b[0m\u001b]8;id=267261;file://C:\\tools\\Manim\\Lib\\site-packages\\manim\\renderer\\cairo_renderer.py#78\u001b\\\u001b[2m78\u001b[0m\u001b]8;;\u001b\\\n",
       "\u001b[2;36m                    \u001b[0m         2789044632_125286499_3797541857\u001b[1m)\u001b[0m                                  \u001b[2m                    \u001b[0m\n"
      ]
     },
     "metadata": {},
     "output_type": "display_data"
    },
    {
     "data": {
      "text/html": [
       "<pre style=\"white-space:pre;overflow-x:auto;line-height:normal;font-family:Menlo,'DejaVu Sans Mono',consolas,'Courier New',monospace\"><span style=\"color: #7fbfbf; text-decoration-color: #7fbfbf\">                    </span><span style=\"color: #008000; text-decoration-color: #008000\">INFO    </span> Animation <span style=\"color: #008000; text-decoration-color: #008000\">2</span> : Using cached data <span style=\"font-weight: bold\">(</span>hash :                           <a href=\"file://C:\\tools\\Manim\\Lib\\site-packages\\manim\\renderer\\cairo_renderer.py\" target=\"_blank\"><span style=\"color: #7f7f7f; text-decoration-color: #7f7f7f\">cairo_renderer.py</span></a><span style=\"color: #7f7f7f; text-decoration-color: #7f7f7f\">:</span><a href=\"file://C:\\tools\\Manim\\Lib\\site-packages\\manim\\renderer\\cairo_renderer.py#78\" target=\"_blank\"><span style=\"color: #7f7f7f; text-decoration-color: #7f7f7f\">78</span></a>\n",
       "<span style=\"color: #7fbfbf; text-decoration-color: #7fbfbf\">                    </span>         2789044632_1426697979_265928648<span style=\"font-weight: bold\">)</span>                                  <span style=\"color: #7f7f7f; text-decoration-color: #7f7f7f\">                    </span>\n",
       "</pre>\n"
      ],
      "text/plain": [
       "\u001b[2;36m                   \u001b[0m\u001b[2;36m \u001b[0m\u001b[32mINFO    \u001b[0m Animation \u001b[32m2\u001b[0m : Using cached data \u001b[1m(\u001b[0mhash :                           \u001b]8;id=599313;file://C:\\tools\\Manim\\Lib\\site-packages\\manim\\renderer\\cairo_renderer.py\u001b\\\u001b[2mcairo_renderer.py\u001b[0m\u001b]8;;\u001b\\\u001b[2m:\u001b[0m\u001b]8;id=433181;file://C:\\tools\\Manim\\Lib\\site-packages\\manim\\renderer\\cairo_renderer.py#78\u001b\\\u001b[2m78\u001b[0m\u001b]8;;\u001b\\\n",
       "\u001b[2;36m                    \u001b[0m         2789044632_1426697979_265928648\u001b[1m)\u001b[0m                                  \u001b[2m                    \u001b[0m\n"
      ]
     },
     "metadata": {},
     "output_type": "display_data"
    },
    {
     "name": "stderr",
     "output_type": "stream",
     "text": [
      "                                                                                          \r"
     ]
    },
    {
     "data": {
      "text/html": [
       "<pre style=\"white-space:pre;overflow-x:auto;line-height:normal;font-family:Menlo,'DejaVu Sans Mono',consolas,'Courier New',monospace\"><span style=\"color: #7fbfbf; text-decoration-color: #7fbfbf\">                    </span><span style=\"color: #008000; text-decoration-color: #008000\">INFO    </span> Animation <span style=\"color: #008000; text-decoration-color: #008000\">3</span> : Using cached data <span style=\"font-weight: bold\">(</span>hash :                           <a href=\"file://C:\\tools\\Manim\\Lib\\site-packages\\manim\\renderer\\cairo_renderer.py\" target=\"_blank\"><span style=\"color: #7f7f7f; text-decoration-color: #7f7f7f\">cairo_renderer.py</span></a><span style=\"color: #7f7f7f; text-decoration-color: #7f7f7f\">:</span><a href=\"file://C:\\tools\\Manim\\Lib\\site-packages\\manim\\renderer\\cairo_renderer.py#78\" target=\"_blank\"><span style=\"color: #7f7f7f; text-decoration-color: #7f7f7f\">78</span></a>\n",
       "<span style=\"color: #7fbfbf; text-decoration-color: #7fbfbf\">                    </span>         2789044632_1419432310_2828353699<span style=\"font-weight: bold\">)</span>                                 <span style=\"color: #7f7f7f; text-decoration-color: #7f7f7f\">                    </span>\n",
       "</pre>\n"
      ],
      "text/plain": [
       "\u001b[2;36m                   \u001b[0m\u001b[2;36m \u001b[0m\u001b[32mINFO    \u001b[0m Animation \u001b[32m3\u001b[0m : Using cached data \u001b[1m(\u001b[0mhash :                           \u001b]8;id=893490;file://C:\\tools\\Manim\\Lib\\site-packages\\manim\\renderer\\cairo_renderer.py\u001b\\\u001b[2mcairo_renderer.py\u001b[0m\u001b]8;;\u001b\\\u001b[2m:\u001b[0m\u001b]8;id=272430;file://C:\\tools\\Manim\\Lib\\site-packages\\manim\\renderer\\cairo_renderer.py#78\u001b\\\u001b[2m78\u001b[0m\u001b]8;;\u001b\\\n",
       "\u001b[2;36m                    \u001b[0m         2789044632_1419432310_2828353699\u001b[1m)\u001b[0m                                 \u001b[2m                    \u001b[0m\n"
      ]
     },
     "metadata": {},
     "output_type": "display_data"
    },
    {
     "name": "stderr",
     "output_type": "stream",
     "text": [
      "                                                                        \r"
     ]
    },
    {
     "data": {
      "text/html": [
       "<pre style=\"white-space:pre;overflow-x:auto;line-height:normal;font-family:Menlo,'DejaVu Sans Mono',consolas,'Courier New',monospace\"><span style=\"color: #7fbfbf; text-decoration-color: #7fbfbf\">                    </span><span style=\"color: #008000; text-decoration-color: #008000\">INFO    </span> Animation <span style=\"color: #008000; text-decoration-color: #008000\">4</span> : Using cached data <span style=\"font-weight: bold\">(</span>hash :                           <a href=\"file://C:\\tools\\Manim\\Lib\\site-packages\\manim\\renderer\\cairo_renderer.py\" target=\"_blank\"><span style=\"color: #7f7f7f; text-decoration-color: #7f7f7f\">cairo_renderer.py</span></a><span style=\"color: #7f7f7f; text-decoration-color: #7f7f7f\">:</span><a href=\"file://C:\\tools\\Manim\\Lib\\site-packages\\manim\\renderer\\cairo_renderer.py#78\" target=\"_blank\"><span style=\"color: #7f7f7f; text-decoration-color: #7f7f7f\">78</span></a>\n",
       "<span style=\"color: #7fbfbf; text-decoration-color: #7fbfbf\">                    </span>         2789044632_125286499_3037358853<span style=\"font-weight: bold\">)</span>                                  <span style=\"color: #7f7f7f; text-decoration-color: #7f7f7f\">                    </span>\n",
       "</pre>\n"
      ],
      "text/plain": [
       "\u001b[2;36m                   \u001b[0m\u001b[2;36m \u001b[0m\u001b[32mINFO    \u001b[0m Animation \u001b[32m4\u001b[0m : Using cached data \u001b[1m(\u001b[0mhash :                           \u001b]8;id=505479;file://C:\\tools\\Manim\\Lib\\site-packages\\manim\\renderer\\cairo_renderer.py\u001b\\\u001b[2mcairo_renderer.py\u001b[0m\u001b]8;;\u001b\\\u001b[2m:\u001b[0m\u001b]8;id=926467;file://C:\\tools\\Manim\\Lib\\site-packages\\manim\\renderer\\cairo_renderer.py#78\u001b\\\u001b[2m78\u001b[0m\u001b]8;;\u001b\\\n",
       "\u001b[2;36m                    \u001b[0m         2789044632_125286499_3037358853\u001b[1m)\u001b[0m                                  \u001b[2m                    \u001b[0m\n"
      ]
     },
     "metadata": {},
     "output_type": "display_data"
    },
    {
     "data": {
      "text/html": [
       "<pre style=\"white-space:pre;overflow-x:auto;line-height:normal;font-family:Menlo,'DejaVu Sans Mono',consolas,'Courier New',monospace\"><span style=\"color: #7fbfbf; text-decoration-color: #7fbfbf\">                    </span><span style=\"color: #008000; text-decoration-color: #008000\">INFO    </span> Animation <span style=\"color: #008000; text-decoration-color: #008000\">5</span> : Using cached data <span style=\"font-weight: bold\">(</span>hash :                           <a href=\"file://C:\\tools\\Manim\\Lib\\site-packages\\manim\\renderer\\cairo_renderer.py\" target=\"_blank\"><span style=\"color: #7f7f7f; text-decoration-color: #7f7f7f\">cairo_renderer.py</span></a><span style=\"color: #7f7f7f; text-decoration-color: #7f7f7f\">:</span><a href=\"file://C:\\tools\\Manim\\Lib\\site-packages\\manim\\renderer\\cairo_renderer.py#78\" target=\"_blank\"><span style=\"color: #7f7f7f; text-decoration-color: #7f7f7f\">78</span></a>\n",
       "<span style=\"color: #7fbfbf; text-decoration-color: #7fbfbf\">                    </span>         2789044632_1992381641_342480876<span style=\"font-weight: bold\">)</span>                                  <span style=\"color: #7f7f7f; text-decoration-color: #7f7f7f\">                    </span>\n",
       "</pre>\n"
      ],
      "text/plain": [
       "\u001b[2;36m                   \u001b[0m\u001b[2;36m \u001b[0m\u001b[32mINFO    \u001b[0m Animation \u001b[32m5\u001b[0m : Using cached data \u001b[1m(\u001b[0mhash :                           \u001b]8;id=255174;file://C:\\tools\\Manim\\Lib\\site-packages\\manim\\renderer\\cairo_renderer.py\u001b\\\u001b[2mcairo_renderer.py\u001b[0m\u001b]8;;\u001b\\\u001b[2m:\u001b[0m\u001b]8;id=55231;file://C:\\tools\\Manim\\Lib\\site-packages\\manim\\renderer\\cairo_renderer.py#78\u001b\\\u001b[2m78\u001b[0m\u001b]8;;\u001b\\\n",
       "\u001b[2;36m                    \u001b[0m         2789044632_1992381641_342480876\u001b[1m)\u001b[0m                                  \u001b[2m                    \u001b[0m\n"
      ]
     },
     "metadata": {},
     "output_type": "display_data"
    },
    {
     "name": "stderr",
     "output_type": "stream",
     "text": [
      "                                                                                 \r"
     ]
    },
    {
     "data": {
      "text/html": [
       "<pre style=\"white-space:pre;overflow-x:auto;line-height:normal;font-family:Menlo,'DejaVu Sans Mono',consolas,'Courier New',monospace\"><span style=\"color: #7fbfbf; text-decoration-color: #7fbfbf\">[03/30/23 22:32:00] </span><span style=\"color: #008000; text-decoration-color: #008000\">INFO    </span> Animation <span style=\"color: #008000; text-decoration-color: #008000\">6</span> : Using cached data <span style=\"font-weight: bold\">(</span>hash :                           <a href=\"file://C:\\tools\\Manim\\Lib\\site-packages\\manim\\renderer\\cairo_renderer.py\" target=\"_blank\"><span style=\"color: #7f7f7f; text-decoration-color: #7f7f7f\">cairo_renderer.py</span></a><span style=\"color: #7f7f7f; text-decoration-color: #7f7f7f\">:</span><a href=\"file://C:\\tools\\Manim\\Lib\\site-packages\\manim\\renderer\\cairo_renderer.py#78\" target=\"_blank\"><span style=\"color: #7f7f7f; text-decoration-color: #7f7f7f\">78</span></a>\n",
       "<span style=\"color: #7fbfbf; text-decoration-color: #7fbfbf\">                    </span>         2789044632_190800790_889180180<span style=\"font-weight: bold\">)</span>                                   <span style=\"color: #7f7f7f; text-decoration-color: #7f7f7f\">                    </span>\n",
       "</pre>\n"
      ],
      "text/plain": [
       "\u001b[2;36m[03/30/23 22:32:00]\u001b[0m\u001b[2;36m \u001b[0m\u001b[32mINFO    \u001b[0m Animation \u001b[32m6\u001b[0m : Using cached data \u001b[1m(\u001b[0mhash :                           \u001b]8;id=146745;file://C:\\tools\\Manim\\Lib\\site-packages\\manim\\renderer\\cairo_renderer.py\u001b\\\u001b[2mcairo_renderer.py\u001b[0m\u001b]8;;\u001b\\\u001b[2m:\u001b[0m\u001b]8;id=195533;file://C:\\tools\\Manim\\Lib\\site-packages\\manim\\renderer\\cairo_renderer.py#78\u001b\\\u001b[2m78\u001b[0m\u001b]8;;\u001b\\\n",
       "\u001b[2;36m                    \u001b[0m         2789044632_190800790_889180180\u001b[1m)\u001b[0m                                   \u001b[2m                    \u001b[0m\n"
      ]
     },
     "metadata": {},
     "output_type": "display_data"
    },
    {
     "data": {
      "text/html": [
       "<pre style=\"white-space:pre;overflow-x:auto;line-height:normal;font-family:Menlo,'DejaVu Sans Mono',consolas,'Courier New',monospace\"><span style=\"color: #7fbfbf; text-decoration-color: #7fbfbf\">                    </span><span style=\"color: #008000; text-decoration-color: #008000\">INFO    </span> Animation <span style=\"color: #008000; text-decoration-color: #008000\">7</span> : Using cached data <span style=\"font-weight: bold\">(</span>hash :                           <a href=\"file://C:\\tools\\Manim\\Lib\\site-packages\\manim\\renderer\\cairo_renderer.py\" target=\"_blank\"><span style=\"color: #7f7f7f; text-decoration-color: #7f7f7f\">cairo_renderer.py</span></a><span style=\"color: #7f7f7f; text-decoration-color: #7f7f7f\">:</span><a href=\"file://C:\\tools\\Manim\\Lib\\site-packages\\manim\\renderer\\cairo_renderer.py#78\" target=\"_blank\"><span style=\"color: #7f7f7f; text-decoration-color: #7f7f7f\">78</span></a>\n",
       "<span style=\"color: #7fbfbf; text-decoration-color: #7fbfbf\">                    </span>         2789044632_3818221569_3850913105<span style=\"font-weight: bold\">)</span>                                 <span style=\"color: #7f7f7f; text-decoration-color: #7f7f7f\">                    </span>\n",
       "</pre>\n"
      ],
      "text/plain": [
       "\u001b[2;36m                   \u001b[0m\u001b[2;36m \u001b[0m\u001b[32mINFO    \u001b[0m Animation \u001b[32m7\u001b[0m : Using cached data \u001b[1m(\u001b[0mhash :                           \u001b]8;id=839880;file://C:\\tools\\Manim\\Lib\\site-packages\\manim\\renderer\\cairo_renderer.py\u001b\\\u001b[2mcairo_renderer.py\u001b[0m\u001b]8;;\u001b\\\u001b[2m:\u001b[0m\u001b]8;id=296237;file://C:\\tools\\Manim\\Lib\\site-packages\\manim\\renderer\\cairo_renderer.py#78\u001b\\\u001b[2m78\u001b[0m\u001b]8;;\u001b\\\n",
       "\u001b[2;36m                    \u001b[0m         2789044632_3818221569_3850913105\u001b[1m)\u001b[0m                                 \u001b[2m                    \u001b[0m\n"
      ]
     },
     "metadata": {},
     "output_type": "display_data"
    },
    {
     "name": "stderr",
     "output_type": "stream",
     "text": [
      "                                                                                   \r"
     ]
    },
    {
     "data": {
      "text/html": [
       "<pre style=\"white-space:pre;overflow-x:auto;line-height:normal;font-family:Menlo,'DejaVu Sans Mono',consolas,'Courier New',monospace\"><span style=\"color: #7fbfbf; text-decoration-color: #7fbfbf\">[03/30/23 22:32:01] </span><span style=\"color: #008000; text-decoration-color: #008000\">INFO    </span> Animation <span style=\"color: #008000; text-decoration-color: #008000\">8</span> : Using cached data <span style=\"font-weight: bold\">(</span>hash :                           <a href=\"file://C:\\tools\\Manim\\Lib\\site-packages\\manim\\renderer\\cairo_renderer.py\" target=\"_blank\"><span style=\"color: #7f7f7f; text-decoration-color: #7f7f7f\">cairo_renderer.py</span></a><span style=\"color: #7f7f7f; text-decoration-color: #7f7f7f\">:</span><a href=\"file://C:\\tools\\Manim\\Lib\\site-packages\\manim\\renderer\\cairo_renderer.py#78\" target=\"_blank\"><span style=\"color: #7f7f7f; text-decoration-color: #7f7f7f\">78</span></a>\n",
       "<span style=\"color: #7fbfbf; text-decoration-color: #7fbfbf\">                    </span>         2789044632_2040323792_3222621945<span style=\"font-weight: bold\">)</span>                                 <span style=\"color: #7f7f7f; text-decoration-color: #7f7f7f\">                    </span>\n",
       "</pre>\n"
      ],
      "text/plain": [
       "\u001b[2;36m[03/30/23 22:32:01]\u001b[0m\u001b[2;36m \u001b[0m\u001b[32mINFO    \u001b[0m Animation \u001b[32m8\u001b[0m : Using cached data \u001b[1m(\u001b[0mhash :                           \u001b]8;id=72489;file://C:\\tools\\Manim\\Lib\\site-packages\\manim\\renderer\\cairo_renderer.py\u001b\\\u001b[2mcairo_renderer.py\u001b[0m\u001b]8;;\u001b\\\u001b[2m:\u001b[0m\u001b]8;id=332381;file://C:\\tools\\Manim\\Lib\\site-packages\\manim\\renderer\\cairo_renderer.py#78\u001b\\\u001b[2m78\u001b[0m\u001b]8;;\u001b\\\n",
       "\u001b[2;36m                    \u001b[0m         2789044632_2040323792_3222621945\u001b[1m)\u001b[0m                                 \u001b[2m                    \u001b[0m\n"
      ]
     },
     "metadata": {},
     "output_type": "display_data"
    },
    {
     "name": "stderr",
     "output_type": "stream",
     "text": [
      "                                                                                                    \r"
     ]
    },
    {
     "data": {
      "text/html": [
       "<pre style=\"white-space:pre;overflow-x:auto;line-height:normal;font-family:Menlo,'DejaVu Sans Mono',consolas,'Courier New',monospace\"><span style=\"color: #7fbfbf; text-decoration-color: #7fbfbf\">[03/30/23 22:32:04] </span><span style=\"color: #008000; text-decoration-color: #008000\">INFO    </span> Animation <span style=\"color: #008000; text-decoration-color: #008000\">9</span> : Partial movie file written in                   <a href=\"file://C:\\tools\\Manim\\Lib\\site-packages\\manim\\scene\\scene_file_writer.py\" target=\"_blank\"><span style=\"color: #7f7f7f; text-decoration-color: #7f7f7f\">scene_file_writer.py</span></a><span style=\"color: #7f7f7f; text-decoration-color: #7f7f7f\">:</span><a href=\"file://C:\\tools\\Manim\\Lib\\site-packages\\manim\\scene\\scene_file_writer.py#527\" target=\"_blank\"><span style=\"color: #7f7f7f; text-decoration-color: #7f7f7f\">527</span></a>\n",
       "<span style=\"color: #7fbfbf; text-decoration-color: #7fbfbf\">                    </span>         <span style=\"color: #008000; text-decoration-color: #008000\">'C:\\Yokota_Adan\\Egyetem\\mszo\\IPA\\MSZO-IPA-2023\\Video1\\Bevezet</span> <span style=\"color: #7f7f7f; text-decoration-color: #7f7f7f\">                        </span>\n",
       "<span style=\"color: #7fbfbf; text-decoration-color: #7fbfbf\">                    </span>         <span style=\"color: #008000; text-decoration-color: #008000\">es,alapfogalmak\\media\\videos\\Bevezetes,alapfogalmak\\720p30\\pa</span> <span style=\"color: #7f7f7f; text-decoration-color: #7f7f7f\">                        </span>\n",
       "<span style=\"color: #7fbfbf; text-decoration-color: #7fbfbf\">                    </span>         <span style=\"color: #008000; text-decoration-color: #008000\">rtial_movie_files\\alap\\2789044632_3610836929_51350250.mp4'</span>    <span style=\"color: #7f7f7f; text-decoration-color: #7f7f7f\">                        </span>\n",
       "</pre>\n"
      ],
      "text/plain": [
       "\u001b[2;36m[03/30/23 22:32:04]\u001b[0m\u001b[2;36m \u001b[0m\u001b[32mINFO    \u001b[0m Animation \u001b[32m9\u001b[0m : Partial movie file written in                   \u001b]8;id=888608;file://C:\\tools\\Manim\\Lib\\site-packages\\manim\\scene\\scene_file_writer.py\u001b\\\u001b[2mscene_file_writer.py\u001b[0m\u001b]8;;\u001b\\\u001b[2m:\u001b[0m\u001b]8;id=209397;file://C:\\tools\\Manim\\Lib\\site-packages\\manim\\scene\\scene_file_writer.py#527\u001b\\\u001b[2m527\u001b[0m\u001b]8;;\u001b\\\n",
       "\u001b[2;36m                    \u001b[0m         \u001b[32m'C:\\Yokota_Adan\\Egyetem\\mszo\\IPA\\MSZO-IPA-2023\\Video1\\Bevezet\u001b[0m \u001b[2m                        \u001b[0m\n",
       "\u001b[2;36m                    \u001b[0m         \u001b[32mes,alapfogalmak\\media\\videos\\Bevezetes,alapfogalmak\\720p30\\pa\u001b[0m \u001b[2m                        \u001b[0m\n",
       "\u001b[2;36m                    \u001b[0m         \u001b[32mrtial_movie_files\\alap\\2789044632_3610836929_51350250.mp4'\u001b[0m    \u001b[2m                        \u001b[0m\n"
      ]
     },
     "metadata": {},
     "output_type": "display_data"
    },
    {
     "data": {
      "text/html": [
       "<pre style=\"white-space:pre;overflow-x:auto;line-height:normal;font-family:Menlo,'DejaVu Sans Mono',consolas,'Courier New',monospace\"><span style=\"color: #7fbfbf; text-decoration-color: #7fbfbf\">[03/30/23 22:32:05] </span><span style=\"color: #008000; text-decoration-color: #008000\">INFO    </span> Animation <span style=\"color: #008000; text-decoration-color: #008000\">10</span> : Partial movie file written in                  <a href=\"file://C:\\tools\\Manim\\Lib\\site-packages\\manim\\scene\\scene_file_writer.py\" target=\"_blank\"><span style=\"color: #7f7f7f; text-decoration-color: #7f7f7f\">scene_file_writer.py</span></a><span style=\"color: #7f7f7f; text-decoration-color: #7f7f7f\">:</span><a href=\"file://C:\\tools\\Manim\\Lib\\site-packages\\manim\\scene\\scene_file_writer.py#527\" target=\"_blank\"><span style=\"color: #7f7f7f; text-decoration-color: #7f7f7f\">527</span></a>\n",
       "<span style=\"color: #7fbfbf; text-decoration-color: #7fbfbf\">                    </span>         <span style=\"color: #008000; text-decoration-color: #008000\">'C:\\Yokota_Adan\\Egyetem\\mszo\\IPA\\MSZO-IPA-2023\\Video1\\Bevezet</span> <span style=\"color: #7f7f7f; text-decoration-color: #7f7f7f\">                        </span>\n",
       "<span style=\"color: #7fbfbf; text-decoration-color: #7fbfbf\">                    </span>         <span style=\"color: #008000; text-decoration-color: #008000\">es,alapfogalmak\\media\\videos\\Bevezetes,alapfogalmak\\720p30\\pa</span> <span style=\"color: #7f7f7f; text-decoration-color: #7f7f7f\">                        </span>\n",
       "<span style=\"color: #7fbfbf; text-decoration-color: #7fbfbf\">                    </span>         <span style=\"color: #008000; text-decoration-color: #008000\">rtial_movie_files\\alap\\2789044632_190800790_2592493792.mp4'</span>   <span style=\"color: #7f7f7f; text-decoration-color: #7f7f7f\">                        </span>\n",
       "</pre>\n"
      ],
      "text/plain": [
       "\u001b[2;36m[03/30/23 22:32:05]\u001b[0m\u001b[2;36m \u001b[0m\u001b[32mINFO    \u001b[0m Animation \u001b[32m10\u001b[0m : Partial movie file written in                  \u001b]8;id=171547;file://C:\\tools\\Manim\\Lib\\site-packages\\manim\\scene\\scene_file_writer.py\u001b\\\u001b[2mscene_file_writer.py\u001b[0m\u001b]8;;\u001b\\\u001b[2m:\u001b[0m\u001b]8;id=665473;file://C:\\tools\\Manim\\Lib\\site-packages\\manim\\scene\\scene_file_writer.py#527\u001b\\\u001b[2m527\u001b[0m\u001b]8;;\u001b\\\n",
       "\u001b[2;36m                    \u001b[0m         \u001b[32m'C:\\Yokota_Adan\\Egyetem\\mszo\\IPA\\MSZO-IPA-2023\\Video1\\Bevezet\u001b[0m \u001b[2m                        \u001b[0m\n",
       "\u001b[2;36m                    \u001b[0m         \u001b[32mes,alapfogalmak\\media\\videos\\Bevezetes,alapfogalmak\\720p30\\pa\u001b[0m \u001b[2m                        \u001b[0m\n",
       "\u001b[2;36m                    \u001b[0m         \u001b[32mrtial_movie_files\\alap\\2789044632_190800790_2592493792.mp4'\u001b[0m   \u001b[2m                        \u001b[0m\n"
      ]
     },
     "metadata": {},
     "output_type": "display_data"
    },
    {
     "name": "stderr",
     "output_type": "stream",
     "text": [
      "                                                                                                     \r"
     ]
    },
    {
     "data": {
      "text/html": [
       "<pre style=\"white-space:pre;overflow-x:auto;line-height:normal;font-family:Menlo,'DejaVu Sans Mono',consolas,'Courier New',monospace\"><span style=\"color: #7fbfbf; text-decoration-color: #7fbfbf\">[03/30/23 22:32:07] </span><span style=\"color: #008000; text-decoration-color: #008000\">INFO    </span> Animation <span style=\"color: #008000; text-decoration-color: #008000\">11</span> : Partial movie file written in                  <a href=\"file://C:\\tools\\Manim\\Lib\\site-packages\\manim\\scene\\scene_file_writer.py\" target=\"_blank\"><span style=\"color: #7f7f7f; text-decoration-color: #7f7f7f\">scene_file_writer.py</span></a><span style=\"color: #7f7f7f; text-decoration-color: #7f7f7f\">:</span><a href=\"file://C:\\tools\\Manim\\Lib\\site-packages\\manim\\scene\\scene_file_writer.py#527\" target=\"_blank\"><span style=\"color: #7f7f7f; text-decoration-color: #7f7f7f\">527</span></a>\n",
       "<span style=\"color: #7fbfbf; text-decoration-color: #7fbfbf\">                    </span>         <span style=\"color: #008000; text-decoration-color: #008000\">'C:\\Yokota_Adan\\Egyetem\\mszo\\IPA\\MSZO-IPA-2023\\Video1\\Bevezet</span> <span style=\"color: #7f7f7f; text-decoration-color: #7f7f7f\">                        </span>\n",
       "<span style=\"color: #7fbfbf; text-decoration-color: #7fbfbf\">                    </span>         <span style=\"color: #008000; text-decoration-color: #008000\">es,alapfogalmak\\media\\videos\\Bevezetes,alapfogalmak\\720p30\\pa</span> <span style=\"color: #7f7f7f; text-decoration-color: #7f7f7f\">                        </span>\n",
       "<span style=\"color: #7fbfbf; text-decoration-color: #7fbfbf\">                    </span>         <span style=\"color: #008000; text-decoration-color: #008000\">rtial_movie_files\\alap\\2789044632_2522916895_84259043.mp4'</span>    <span style=\"color: #7f7f7f; text-decoration-color: #7f7f7f\">                        </span>\n",
       "</pre>\n"
      ],
      "text/plain": [
       "\u001b[2;36m[03/30/23 22:32:07]\u001b[0m\u001b[2;36m \u001b[0m\u001b[32mINFO    \u001b[0m Animation \u001b[32m11\u001b[0m : Partial movie file written in                  \u001b]8;id=406367;file://C:\\tools\\Manim\\Lib\\site-packages\\manim\\scene\\scene_file_writer.py\u001b\\\u001b[2mscene_file_writer.py\u001b[0m\u001b]8;;\u001b\\\u001b[2m:\u001b[0m\u001b]8;id=975945;file://C:\\tools\\Manim\\Lib\\site-packages\\manim\\scene\\scene_file_writer.py#527\u001b\\\u001b[2m527\u001b[0m\u001b]8;;\u001b\\\n",
       "\u001b[2;36m                    \u001b[0m         \u001b[32m'C:\\Yokota_Adan\\Egyetem\\mszo\\IPA\\MSZO-IPA-2023\\Video1\\Bevezet\u001b[0m \u001b[2m                        \u001b[0m\n",
       "\u001b[2;36m                    \u001b[0m         \u001b[32mes,alapfogalmak\\media\\videos\\Bevezetes,alapfogalmak\\720p30\\pa\u001b[0m \u001b[2m                        \u001b[0m\n",
       "\u001b[2;36m                    \u001b[0m         \u001b[32mrtial_movie_files\\alap\\2789044632_2522916895_84259043.mp4'\u001b[0m    \u001b[2m                        \u001b[0m\n"
      ]
     },
     "metadata": {},
     "output_type": "display_data"
    },
    {
     "data": {
      "text/html": [
       "<pre style=\"white-space:pre;overflow-x:auto;line-height:normal;font-family:Menlo,'DejaVu Sans Mono',consolas,'Courier New',monospace\"><span style=\"color: #7fbfbf; text-decoration-color: #7fbfbf\">[03/30/23 22:32:08] </span><span style=\"color: #008000; text-decoration-color: #008000\">INFO    </span> Animation <span style=\"color: #008000; text-decoration-color: #008000\">12</span> : Using cached data <span style=\"font-weight: bold\">(</span>hash :                          <a href=\"file://C:\\tools\\Manim\\Lib\\site-packages\\manim\\renderer\\cairo_renderer.py\" target=\"_blank\"><span style=\"color: #7f7f7f; text-decoration-color: #7f7f7f\">cairo_renderer.py</span></a><span style=\"color: #7f7f7f; text-decoration-color: #7f7f7f\">:</span><a href=\"file://C:\\tools\\Manim\\Lib\\site-packages\\manim\\renderer\\cairo_renderer.py#78\" target=\"_blank\"><span style=\"color: #7f7f7f; text-decoration-color: #7f7f7f\">78</span></a>\n",
       "<span style=\"color: #7fbfbf; text-decoration-color: #7fbfbf\">                    </span>         2789044632_3085005095_2499211401<span style=\"font-weight: bold\">)</span>                                 <span style=\"color: #7f7f7f; text-decoration-color: #7f7f7f\">                    </span>\n",
       "</pre>\n"
      ],
      "text/plain": [
       "\u001b[2;36m[03/30/23 22:32:08]\u001b[0m\u001b[2;36m \u001b[0m\u001b[32mINFO    \u001b[0m Animation \u001b[32m12\u001b[0m : Using cached data \u001b[1m(\u001b[0mhash :                          \u001b]8;id=143119;file://C:\\tools\\Manim\\Lib\\site-packages\\manim\\renderer\\cairo_renderer.py\u001b\\\u001b[2mcairo_renderer.py\u001b[0m\u001b]8;;\u001b\\\u001b[2m:\u001b[0m\u001b]8;id=151150;file://C:\\tools\\Manim\\Lib\\site-packages\\manim\\renderer\\cairo_renderer.py#78\u001b\\\u001b[2m78\u001b[0m\u001b]8;;\u001b\\\n",
       "\u001b[2;36m                    \u001b[0m         2789044632_3085005095_2499211401\u001b[1m)\u001b[0m                                 \u001b[2m                    \u001b[0m\n"
      ]
     },
     "metadata": {},
     "output_type": "display_data"
    },
    {
     "name": "stderr",
     "output_type": "stream",
     "text": [
      "                                                                                    \r"
     ]
    },
    {
     "data": {
      "text/html": [
       "<pre style=\"white-space:pre;overflow-x:auto;line-height:normal;font-family:Menlo,'DejaVu Sans Mono',consolas,'Courier New',monospace\"><span style=\"color: #7fbfbf; text-decoration-color: #7fbfbf\">[03/30/23 22:32:09] </span><span style=\"color: #008000; text-decoration-color: #008000\">INFO    </span> Animation <span style=\"color: #008000; text-decoration-color: #008000\">13</span> : Using cached data <span style=\"font-weight: bold\">(</span>hash :                          <a href=\"file://C:\\tools\\Manim\\Lib\\site-packages\\manim\\renderer\\cairo_renderer.py\" target=\"_blank\"><span style=\"color: #7f7f7f; text-decoration-color: #7f7f7f\">cairo_renderer.py</span></a><span style=\"color: #7f7f7f; text-decoration-color: #7f7f7f\">:</span><a href=\"file://C:\\tools\\Manim\\Lib\\site-packages\\manim\\renderer\\cairo_renderer.py#78\" target=\"_blank\"><span style=\"color: #7f7f7f; text-decoration-color: #7f7f7f\">78</span></a>\n",
       "<span style=\"color: #7fbfbf; text-decoration-color: #7fbfbf\">                    </span>         2789044632_3674121028_3874313771<span style=\"font-weight: bold\">)</span>                                 <span style=\"color: #7f7f7f; text-decoration-color: #7f7f7f\">                    </span>\n",
       "</pre>\n"
      ],
      "text/plain": [
       "\u001b[2;36m[03/30/23 22:32:09]\u001b[0m\u001b[2;36m \u001b[0m\u001b[32mINFO    \u001b[0m Animation \u001b[32m13\u001b[0m : Using cached data \u001b[1m(\u001b[0mhash :                          \u001b]8;id=680844;file://C:\\tools\\Manim\\Lib\\site-packages\\manim\\renderer\\cairo_renderer.py\u001b\\\u001b[2mcairo_renderer.py\u001b[0m\u001b]8;;\u001b\\\u001b[2m:\u001b[0m\u001b]8;id=935531;file://C:\\tools\\Manim\\Lib\\site-packages\\manim\\renderer\\cairo_renderer.py#78\u001b\\\u001b[2m78\u001b[0m\u001b]8;;\u001b\\\n",
       "\u001b[2;36m                    \u001b[0m         2789044632_3674121028_3874313771\u001b[1m)\u001b[0m                                 \u001b[2m                    \u001b[0m\n"
      ]
     },
     "metadata": {},
     "output_type": "display_data"
    },
    {
     "name": "stderr",
     "output_type": "stream",
     "text": [
      "                                                                                    \r"
     ]
    },
    {
     "data": {
      "text/html": [
       "<pre style=\"white-space:pre;overflow-x:auto;line-height:normal;font-family:Menlo,'DejaVu Sans Mono',consolas,'Courier New',monospace\"><span style=\"color: #7fbfbf; text-decoration-color: #7fbfbf\">[03/30/23 22:32:10] </span><span style=\"color: #008000; text-decoration-color: #008000\">INFO    </span> Animation <span style=\"color: #008000; text-decoration-color: #008000\">14</span> : Partial movie file written in                  <a href=\"file://C:\\tools\\Manim\\Lib\\site-packages\\manim\\scene\\scene_file_writer.py\" target=\"_blank\"><span style=\"color: #7f7f7f; text-decoration-color: #7f7f7f\">scene_file_writer.py</span></a><span style=\"color: #7f7f7f; text-decoration-color: #7f7f7f\">:</span><a href=\"file://C:\\tools\\Manim\\Lib\\site-packages\\manim\\scene\\scene_file_writer.py#527\" target=\"_blank\"><span style=\"color: #7f7f7f; text-decoration-color: #7f7f7f\">527</span></a>\n",
       "<span style=\"color: #7fbfbf; text-decoration-color: #7fbfbf\">                    </span>         <span style=\"color: #008000; text-decoration-color: #008000\">'C:\\Yokota_Adan\\Egyetem\\mszo\\IPA\\MSZO-IPA-2023\\Video1\\Bevezet</span> <span style=\"color: #7f7f7f; text-decoration-color: #7f7f7f\">                        </span>\n",
       "<span style=\"color: #7fbfbf; text-decoration-color: #7fbfbf\">                    </span>         <span style=\"color: #008000; text-decoration-color: #008000\">es,alapfogalmak\\media\\videos\\Bevezetes,alapfogalmak\\720p30\\pa</span> <span style=\"color: #7f7f7f; text-decoration-color: #7f7f7f\">                        </span>\n",
       "<span style=\"color: #7fbfbf; text-decoration-color: #7fbfbf\">                    </span>         <span style=\"color: #008000; text-decoration-color: #008000\">rtial_movie_files\\alap\\207390714_190800790_3636715790.mp4'</span>    <span style=\"color: #7f7f7f; text-decoration-color: #7f7f7f\">                        </span>\n",
       "</pre>\n"
      ],
      "text/plain": [
       "\u001b[2;36m[03/30/23 22:32:10]\u001b[0m\u001b[2;36m \u001b[0m\u001b[32mINFO    \u001b[0m Animation \u001b[32m14\u001b[0m : Partial movie file written in                  \u001b]8;id=219946;file://C:\\tools\\Manim\\Lib\\site-packages\\manim\\scene\\scene_file_writer.py\u001b\\\u001b[2mscene_file_writer.py\u001b[0m\u001b]8;;\u001b\\\u001b[2m:\u001b[0m\u001b]8;id=966462;file://C:\\tools\\Manim\\Lib\\site-packages\\manim\\scene\\scene_file_writer.py#527\u001b\\\u001b[2m527\u001b[0m\u001b]8;;\u001b\\\n",
       "\u001b[2;36m                    \u001b[0m         \u001b[32m'C:\\Yokota_Adan\\Egyetem\\mszo\\IPA\\MSZO-IPA-2023\\Video1\\Bevezet\u001b[0m \u001b[2m                        \u001b[0m\n",
       "\u001b[2;36m                    \u001b[0m         \u001b[32mes,alapfogalmak\\media\\videos\\Bevezetes,alapfogalmak\\720p30\\pa\u001b[0m \u001b[2m                        \u001b[0m\n",
       "\u001b[2;36m                    \u001b[0m         \u001b[32mrtial_movie_files\\alap\\207390714_190800790_3636715790.mp4'\u001b[0m    \u001b[2m                        \u001b[0m\n"
      ]
     },
     "metadata": {},
     "output_type": "display_data"
    },
    {
     "data": {
      "text/html": [
       "<pre style=\"white-space:pre;overflow-x:auto;line-height:normal;font-family:Menlo,'DejaVu Sans Mono',consolas,'Courier New',monospace\"><span style=\"color: #7fbfbf; text-decoration-color: #7fbfbf\">                    </span><span style=\"color: #008000; text-decoration-color: #008000\">INFO    </span> Animation <span style=\"color: #008000; text-decoration-color: #008000\">15</span> : Using cached data <span style=\"font-weight: bold\">(</span>hash :                          <a href=\"file://C:\\tools\\Manim\\Lib\\site-packages\\manim\\renderer\\cairo_renderer.py\" target=\"_blank\"><span style=\"color: #7f7f7f; text-decoration-color: #7f7f7f\">cairo_renderer.py</span></a><span style=\"color: #7f7f7f; text-decoration-color: #7f7f7f\">:</span><a href=\"file://C:\\tools\\Manim\\Lib\\site-packages\\manim\\renderer\\cairo_renderer.py#78\" target=\"_blank\"><span style=\"color: #7f7f7f; text-decoration-color: #7f7f7f\">78</span></a>\n",
       "<span style=\"color: #7fbfbf; text-decoration-color: #7fbfbf\">                    </span>         2789044632_1959724817_1598683287<span style=\"font-weight: bold\">)</span>                                 <span style=\"color: #7f7f7f; text-decoration-color: #7f7f7f\">                    </span>\n",
       "</pre>\n"
      ],
      "text/plain": [
       "\u001b[2;36m                   \u001b[0m\u001b[2;36m \u001b[0m\u001b[32mINFO    \u001b[0m Animation \u001b[32m15\u001b[0m : Using cached data \u001b[1m(\u001b[0mhash :                          \u001b]8;id=619058;file://C:\\tools\\Manim\\Lib\\site-packages\\manim\\renderer\\cairo_renderer.py\u001b\\\u001b[2mcairo_renderer.py\u001b[0m\u001b]8;;\u001b\\\u001b[2m:\u001b[0m\u001b]8;id=649951;file://C:\\tools\\Manim\\Lib\\site-packages\\manim\\renderer\\cairo_renderer.py#78\u001b\\\u001b[2m78\u001b[0m\u001b]8;;\u001b\\\n",
       "\u001b[2;36m                    \u001b[0m         2789044632_1959724817_1598683287\u001b[1m)\u001b[0m                                 \u001b[2m                    \u001b[0m\n"
      ]
     },
     "metadata": {},
     "output_type": "display_data"
    },
    {
     "name": "stderr",
     "output_type": "stream",
     "text": [
      "                                                                                         \r"
     ]
    },
    {
     "data": {
      "text/html": [
       "<pre style=\"white-space:pre;overflow-x:auto;line-height:normal;font-family:Menlo,'DejaVu Sans Mono',consolas,'Courier New',monospace\"><span style=\"color: #7fbfbf; text-decoration-color: #7fbfbf\">                    </span><span style=\"color: #008000; text-decoration-color: #008000\">INFO    </span> Combining to Movie file.                                      <a href=\"file://C:\\tools\\Manim\\Lib\\site-packages\\manim\\scene\\scene_file_writer.py\" target=\"_blank\"><span style=\"color: #7f7f7f; text-decoration-color: #7f7f7f\">scene_file_writer.py</span></a><span style=\"color: #7f7f7f; text-decoration-color: #7f7f7f\">:</span><a href=\"file://C:\\tools\\Manim\\Lib\\site-packages\\manim\\scene\\scene_file_writer.py#617\" target=\"_blank\"><span style=\"color: #7f7f7f; text-decoration-color: #7f7f7f\">617</span></a>\n",
       "</pre>\n"
      ],
      "text/plain": [
       "\u001b[2;36m                   \u001b[0m\u001b[2;36m \u001b[0m\u001b[32mINFO    \u001b[0m Combining to Movie file.                                      \u001b]8;id=343341;file://C:\\tools\\Manim\\Lib\\site-packages\\manim\\scene\\scene_file_writer.py\u001b\\\u001b[2mscene_file_writer.py\u001b[0m\u001b]8;;\u001b\\\u001b[2m:\u001b[0m\u001b]8;id=671914;file://C:\\tools\\Manim\\Lib\\site-packages\\manim\\scene\\scene_file_writer.py#617\u001b\\\u001b[2m617\u001b[0m\u001b]8;;\u001b\\\n"
      ]
     },
     "metadata": {},
     "output_type": "display_data"
    },
    {
     "data": {
      "text/html": [
       "<pre style=\"white-space:pre;overflow-x:auto;line-height:normal;font-family:Menlo,'DejaVu Sans Mono',consolas,'Courier New',monospace\"><span style=\"color: #7fbfbf; text-decoration-color: #7fbfbf\">[03/30/23 22:32:11] </span><span style=\"color: #008000; text-decoration-color: #008000\">INFO    </span>                                                               <a href=\"file://C:\\tools\\Manim\\Lib\\site-packages\\manim\\scene\\scene_file_writer.py\" target=\"_blank\"><span style=\"color: #7f7f7f; text-decoration-color: #7f7f7f\">scene_file_writer.py</span></a><span style=\"color: #7f7f7f; text-decoration-color: #7f7f7f\">:</span><a href=\"file://C:\\tools\\Manim\\Lib\\site-packages\\manim\\scene\\scene_file_writer.py#736\" target=\"_blank\"><span style=\"color: #7f7f7f; text-decoration-color: #7f7f7f\">736</span></a>\n",
       "<span style=\"color: #7fbfbf; text-decoration-color: #7fbfbf\">                    </span>         <span style=\"color: #808000; text-decoration-color: #808000; font-weight: bold\">File</span> ready at                                                 <span style=\"color: #7f7f7f; text-decoration-color: #7f7f7f\">                        </span>\n",
       "<span style=\"color: #7fbfbf; text-decoration-color: #7fbfbf\">                    </span>         <span style=\"color: #008000; text-decoration-color: #008000\">'C:\\Yokota_Adan\\Egyetem\\mszo\\IPA\\MSZO-IPA-2023\\Video1\\Bevezet</span> <span style=\"color: #7f7f7f; text-decoration-color: #7f7f7f\">                        </span>\n",
       "<span style=\"color: #7fbfbf; text-decoration-color: #7fbfbf\">                    </span>         <span style=\"color: #008000; text-decoration-color: #008000\">es,alapfogalmak\\media\\videos\\Bevezetes,alapfogalmak\\720p30\\al</span> <span style=\"color: #7f7f7f; text-decoration-color: #7f7f7f\">                        </span>\n",
       "<span style=\"color: #7fbfbf; text-decoration-color: #7fbfbf\">                    </span>         <span style=\"color: #008000; text-decoration-color: #008000\">ap.mp4'</span>                                                       <span style=\"color: #7f7f7f; text-decoration-color: #7f7f7f\">                        </span>\n",
       "<span style=\"color: #7fbfbf; text-decoration-color: #7fbfbf\">                    </span>                                                                       <span style=\"color: #7f7f7f; text-decoration-color: #7f7f7f\">                        </span>\n",
       "</pre>\n"
      ],
      "text/plain": [
       "\u001b[2;36m[03/30/23 22:32:11]\u001b[0m\u001b[2;36m \u001b[0m\u001b[32mINFO    \u001b[0m                                                               \u001b]8;id=758358;file://C:\\tools\\Manim\\Lib\\site-packages\\manim\\scene\\scene_file_writer.py\u001b\\\u001b[2mscene_file_writer.py\u001b[0m\u001b]8;;\u001b\\\u001b[2m:\u001b[0m\u001b]8;id=519434;file://C:\\tools\\Manim\\Lib\\site-packages\\manim\\scene\\scene_file_writer.py#736\u001b\\\u001b[2m736\u001b[0m\u001b]8;;\u001b\\\n",
       "\u001b[2;36m                    \u001b[0m         \u001b[1;33mFile\u001b[0m ready at                                                 \u001b[2m                        \u001b[0m\n",
       "\u001b[2;36m                    \u001b[0m         \u001b[32m'C:\\Yokota_Adan\\Egyetem\\mszo\\IPA\\MSZO-IPA-2023\\Video1\\Bevezet\u001b[0m \u001b[2m                        \u001b[0m\n",
       "\u001b[2;36m                    \u001b[0m         \u001b[32mes,alapfogalmak\\media\\videos\\Bevezetes,alapfogalmak\\720p30\\al\u001b[0m \u001b[2m                        \u001b[0m\n",
       "\u001b[2;36m                    \u001b[0m         \u001b[32map.mp4'\u001b[0m                                                       \u001b[2m                        \u001b[0m\n",
       "\u001b[2;36m                    \u001b[0m                                                                       \u001b[2m                        \u001b[0m\n"
      ]
     },
     "metadata": {},
     "output_type": "display_data"
    },
    {
     "data": {
      "text/html": [
       "<pre style=\"white-space:pre;overflow-x:auto;line-height:normal;font-family:Menlo,'DejaVu Sans Mono',consolas,'Courier New',monospace\"><span style=\"color: #7fbfbf; text-decoration-color: #7fbfbf\">                    </span><span style=\"color: #008000; text-decoration-color: #008000\">INFO    </span> The partial movie directory is full <span style=\"font-weight: bold\">(</span>&gt; <span style=\"color: #008000; text-decoration-color: #008000\">100</span> files<span style=\"font-weight: bold\">)</span>. Therefore, <a href=\"file://C:\\tools\\Manim\\Lib\\site-packages\\manim\\scene\\scene_file_writer.py\" target=\"_blank\"><span style=\"color: #7f7f7f; text-decoration-color: #7f7f7f\">scene_file_writer.py</span></a><span style=\"color: #7f7f7f; text-decoration-color: #7f7f7f\">:</span><a href=\"file://C:\\tools\\Manim\\Lib\\site-packages\\manim\\scene\\scene_file_writer.py#708\" target=\"_blank\"><span style=\"color: #7f7f7f; text-decoration-color: #7f7f7f\">708</span></a>\n",
       "<span style=\"color: #7fbfbf; text-decoration-color: #7fbfbf\">                    </span>         manim has removed the <span style=\"color: #008000; text-decoration-color: #008000\">4</span> oldest <span style=\"color: #800080; text-decoration-color: #800080; font-weight: bold\">file</span><span style=\"font-weight: bold\">(</span>s<span style=\"font-weight: bold\">)</span>. You can change this   <span style=\"color: #7f7f7f; text-decoration-color: #7f7f7f\">                        </span>\n",
       "<span style=\"color: #7fbfbf; text-decoration-color: #7fbfbf\">                    </span>         behaviour by changing max_files_cached in config.             <span style=\"color: #7f7f7f; text-decoration-color: #7f7f7f\">                        </span>\n",
       "</pre>\n"
      ],
      "text/plain": [
       "\u001b[2;36m                   \u001b[0m\u001b[2;36m \u001b[0m\u001b[32mINFO    \u001b[0m The partial movie directory is full \u001b[1m(\u001b[0m> \u001b[32m100\u001b[0m files\u001b[1m)\u001b[0m. Therefore, \u001b]8;id=929739;file://C:\\tools\\Manim\\Lib\\site-packages\\manim\\scene\\scene_file_writer.py\u001b\\\u001b[2mscene_file_writer.py\u001b[0m\u001b]8;;\u001b\\\u001b[2m:\u001b[0m\u001b]8;id=804834;file://C:\\tools\\Manim\\Lib\\site-packages\\manim\\scene\\scene_file_writer.py#708\u001b\\\u001b[2m708\u001b[0m\u001b]8;;\u001b\\\n",
       "\u001b[2;36m                    \u001b[0m         manim has removed the \u001b[32m4\u001b[0m oldest \u001b[1;35mfile\u001b[0m\u001b[1m(\u001b[0ms\u001b[1m)\u001b[0m. You can change this   \u001b[2m                        \u001b[0m\n",
       "\u001b[2;36m                    \u001b[0m         behaviour by changing max_files_cached in config.             \u001b[2m                        \u001b[0m\n"
      ]
     },
     "metadata": {},
     "output_type": "display_data"
    },
    {
     "data": {
      "text/html": [
       "<pre style=\"white-space:pre;overflow-x:auto;line-height:normal;font-family:Menlo,'DejaVu Sans Mono',consolas,'Courier New',monospace\"><span style=\"color: #7fbfbf; text-decoration-color: #7fbfbf\">                    </span><span style=\"color: #008000; text-decoration-color: #008000\">INFO    </span> <span style=\"color: #808000; text-decoration-color: #808000; font-weight: bold\">Rendered</span> alap                                                             <a href=\"file://C:\\tools\\Manim\\Lib\\site-packages\\manim\\scene\\scene.py\" target=\"_blank\"><span style=\"color: #7f7f7f; text-decoration-color: #7f7f7f\">scene.py</span></a><span style=\"color: #7f7f7f; text-decoration-color: #7f7f7f\">:</span><a href=\"file://C:\\tools\\Manim\\Lib\\site-packages\\manim\\scene\\scene.py#241\" target=\"_blank\"><span style=\"color: #7f7f7f; text-decoration-color: #7f7f7f\">241</span></a>\n",
       "<span style=\"color: #7fbfbf; text-decoration-color: #7fbfbf\">                    </span>         <span style=\"color: #808000; text-decoration-color: #808000; font-weight: bold\">Played</span> <span style=\"color: #008000; text-decoration-color: #008000\">16</span> <span style=\"color: #808000; text-decoration-color: #808000; font-weight: bold\">animations</span>                                                      <span style=\"color: #7f7f7f; text-decoration-color: #7f7f7f\">            </span>\n",
       "</pre>\n"
      ],
      "text/plain": [
       "\u001b[2;36m                   \u001b[0m\u001b[2;36m \u001b[0m\u001b[32mINFO    \u001b[0m \u001b[1;33mRendered\u001b[0m alap                                                             \u001b]8;id=854215;file://C:\\tools\\Manim\\Lib\\site-packages\\manim\\scene\\scene.py\u001b\\\u001b[2mscene.py\u001b[0m\u001b]8;;\u001b\\\u001b[2m:\u001b[0m\u001b]8;id=409211;file://C:\\tools\\Manim\\Lib\\site-packages\\manim\\scene\\scene.py#241\u001b\\\u001b[2m241\u001b[0m\u001b]8;;\u001b\\\n",
       "\u001b[2;36m                    \u001b[0m         \u001b[1;33mPlayed\u001b[0m \u001b[32m16\u001b[0m \u001b[1;33manimations\u001b[0m                                                      \u001b[2m            \u001b[0m\n"
      ]
     },
     "metadata": {},
     "output_type": "display_data"
    },
    {
     "data": {
      "text/html": [
       "<video src=\"media\\jupyter\\alap@2023-03-30@22-32-11.mp4\" controls autoplay loop style=\"max-width: 60%;\"  >\n",
       "      Your browser does not support the <code>video</code> element.\n",
       "    </video>"
      ],
      "text/plain": [
       "<IPython.core.display.Video object>"
      ]
     },
     "metadata": {},
     "output_type": "display_data"
    }
   ],
   "source": [
    "%%manim -qm alap \n",
    "\n",
    "class alap(Scene):\n",
    "    def construct(self):\n",
    "        Title = Text(\"Alapfogalmak\",color=BLUE)\n",
    "        TitleUnderLine = Line(start=[-6,3,0],end=[-4,3,0],color=BLUE)\n",
    "        self.play(FadeIn(Title))\n",
    "\n",
    "        self.wait(2)\n",
    "\n",
    "        self.play(Title.animate.scale(0.45).shift(3.25 * UP + 5 * LEFT))\n",
    "        self.play(GrowFromCenter(TitleUnderLine))\n",
    "\n",
    "        self.wait(2)\n",
    "\n",
    "        kod=Code(code=\"A = 50;\\nprintf(\\\"Hello World!\\\");\",language=\"c\",insert_line_no=False)\n",
    "        self.play(Create(kod))\n",
    "        self.wait(2)\n",
    "\n",
    "        arrs = VGroup(\n",
    "            Arrow(start=[-3.4,0.15,0],end=[-2,0.15,0],stroke_width=3),\n",
    "            Arrow(start = [3.4,-0.15,0], end=[2,-0.15,0],stroke_width=3)\n",
    "        )\n",
    "        magyarazo = VGroup(\n",
    "            Text(\"Utasítás\",font_size=20).shift(4*LEFT+0.15*UP),\n",
    "            Text(\"Pontosvessző a végén\",font_size=20).shift(4.5*RIGHT+0.15*DOWN)\n",
    "        )\n",
    "        self.play(Create(arrs))\n",
    "        self.play(FadeIn(magyarazo))\n",
    "\n",
    "        subtitle=Text(\"Struktúrák\",font_size=50).shift(2.3*UP)\n",
    "\n",
    "        self.play(Transform(kod,Code(code=\"típus név(típus1 paraméter1, ...) {\\n\\t//kód\\n}\",\n",
    "            language=\"c\",insert_line_no=False)),FadeOut(arrs),FadeOut(magyarazo),AddTextLetterByLetter(subtitle)\n",
    "        )\n",
    "        self.wait(2)\n",
    "        self.play(Transform(kod,Code(code=\"int szoroz(int a, int b) {\\n\\treturn a * b;\\n}\",\n",
    "            language=\"c\",insert_line_no=False).shift(1*UP)),FadeOut(subtitle)\n",
    "        )\n",
    "        arrs2 = VGroup(\n",
    "            Arrow(start=[-3.5,1.3,0],end=[-2,1.3,0],stroke_width=3,max_tip_length_to_length_ratio=0.125,buff=0.1),\n",
    "            Arrow(start = [3,1,0], end=[0.75,1,0],stroke_width=3,max_tip_length_to_length_ratio=0.125)\n",
    "        )\n",
    "        magyarazo2 = VGroup(\n",
    "            Text(\"Lehet void\",font_size=20).shift(4.2*LEFT+1.3*UP),\n",
    "            Text(\"Érték visszaadás\",font_size=20).shift(4*RIGHT+1*UP)\n",
    "        )\n",
    "        self.play(Create(arrs2))\n",
    "        self.play(FadeIn(magyarazo2))\n",
    "\n",
    "        self.wait(2)\n",
    "\n",
    "        self.play(FadeOut(kod), RemoveTextLetterByLetter(magyarazo2), FadeOut(arrs2))"
   ]
  },
  {
   "cell_type": "code",
   "execution_count": 5,
   "metadata": {},
   "outputs": [
    {
     "data": {
      "text/html": [
       "<pre style=\"white-space:pre;overflow-x:auto;line-height:normal;font-family:Menlo,'DejaVu Sans Mono',consolas,'Courier New',monospace\"><span style=\"color: #7fbfbf; text-decoration-color: #7fbfbf\">[03/30/23 22:34:41] </span><span style=\"color: #008000; text-decoration-color: #008000\">INFO    </span> Animation <span style=\"color: #008000; text-decoration-color: #008000\">0</span> : Partial movie file written in                   <a href=\"file://C:\\tools\\Manim\\Lib\\site-packages\\manim\\scene\\scene_file_writer.py\" target=\"_blank\"><span style=\"color: #7f7f7f; text-decoration-color: #7f7f7f\">scene_file_writer.py</span></a><span style=\"color: #7f7f7f; text-decoration-color: #7f7f7f\">:</span><a href=\"file://C:\\tools\\Manim\\Lib\\site-packages\\manim\\scene\\scene_file_writer.py#527\" target=\"_blank\"><span style=\"color: #7f7f7f; text-decoration-color: #7f7f7f\">527</span></a>\n",
       "<span style=\"color: #7fbfbf; text-decoration-color: #7fbfbf\">                    </span>         <span style=\"color: #008000; text-decoration-color: #008000\">'C:\\Yokota_Adan\\Egyetem\\mszo\\IPA\\MSZO-IPA-2023\\Video1\\Bevezet</span> <span style=\"color: #7f7f7f; text-decoration-color: #7f7f7f\">                        </span>\n",
       "<span style=\"color: #7fbfbf; text-decoration-color: #7fbfbf\">                    </span>         <span style=\"color: #008000; text-decoration-color: #008000\">es,alapfogalmak\\media\\videos\\Bevezetes,alapfogalmak\\720p30\\pa</span> <span style=\"color: #7f7f7f; text-decoration-color: #7f7f7f\">                        </span>\n",
       "<span style=\"color: #7fbfbf; text-decoration-color: #7fbfbf\">                    </span>         <span style=\"color: #008000; text-decoration-color: #008000\">rtial_movie_files\\alap\\274514146_1740919036_343856143.mp4'</span>    <span style=\"color: #7f7f7f; text-decoration-color: #7f7f7f\">                        </span>\n",
       "</pre>\n"
      ],
      "text/plain": [
       "\u001b[2;36m[03/30/23 22:34:41]\u001b[0m\u001b[2;36m \u001b[0m\u001b[32mINFO    \u001b[0m Animation \u001b[32m0\u001b[0m : Partial movie file written in                   \u001b]8;id=465754;file://C:\\tools\\Manim\\Lib\\site-packages\\manim\\scene\\scene_file_writer.py\u001b\\\u001b[2mscene_file_writer.py\u001b[0m\u001b]8;;\u001b\\\u001b[2m:\u001b[0m\u001b]8;id=333881;file://C:\\tools\\Manim\\Lib\\site-packages\\manim\\scene\\scene_file_writer.py#527\u001b\\\u001b[2m527\u001b[0m\u001b]8;;\u001b\\\n",
       "\u001b[2;36m                    \u001b[0m         \u001b[32m'C:\\Yokota_Adan\\Egyetem\\mszo\\IPA\\MSZO-IPA-2023\\Video1\\Bevezet\u001b[0m \u001b[2m                        \u001b[0m\n",
       "\u001b[2;36m                    \u001b[0m         \u001b[32mes,alapfogalmak\\media\\videos\\Bevezetes,alapfogalmak\\720p30\\pa\u001b[0m \u001b[2m                        \u001b[0m\n",
       "\u001b[2;36m                    \u001b[0m         \u001b[32mrtial_movie_files\\alap\\274514146_1740919036_343856143.mp4'\u001b[0m    \u001b[2m                        \u001b[0m\n"
      ]
     },
     "metadata": {},
     "output_type": "display_data"
    },
    {
     "data": {
      "text/html": [
       "<pre style=\"white-space:pre;overflow-x:auto;line-height:normal;font-family:Menlo,'DejaVu Sans Mono',consolas,'Courier New',monospace\"><span style=\"color: #7fbfbf; text-decoration-color: #7fbfbf\">                    </span><span style=\"color: #008000; text-decoration-color: #008000\">INFO    </span> Combining to Movie file.                                      <a href=\"file://C:\\tools\\Manim\\Lib\\site-packages\\manim\\scene\\scene_file_writer.py\" target=\"_blank\"><span style=\"color: #7f7f7f; text-decoration-color: #7f7f7f\">scene_file_writer.py</span></a><span style=\"color: #7f7f7f; text-decoration-color: #7f7f7f\">:</span><a href=\"file://C:\\tools\\Manim\\Lib\\site-packages\\manim\\scene\\scene_file_writer.py#617\" target=\"_blank\"><span style=\"color: #7f7f7f; text-decoration-color: #7f7f7f\">617</span></a>\n",
       "</pre>\n"
      ],
      "text/plain": [
       "\u001b[2;36m                   \u001b[0m\u001b[2;36m \u001b[0m\u001b[32mINFO    \u001b[0m Combining to Movie file.                                      \u001b]8;id=267521;file://C:\\tools\\Manim\\Lib\\site-packages\\manim\\scene\\scene_file_writer.py\u001b\\\u001b[2mscene_file_writer.py\u001b[0m\u001b]8;;\u001b\\\u001b[2m:\u001b[0m\u001b]8;id=264928;file://C:\\tools\\Manim\\Lib\\site-packages\\manim\\scene\\scene_file_writer.py#617\u001b\\\u001b[2m617\u001b[0m\u001b]8;;\u001b\\\n"
      ]
     },
     "metadata": {},
     "output_type": "display_data"
    },
    {
     "data": {
      "text/html": [
       "<pre style=\"white-space:pre;overflow-x:auto;line-height:normal;font-family:Menlo,'DejaVu Sans Mono',consolas,'Courier New',monospace\"><span style=\"color: #7fbfbf; text-decoration-color: #7fbfbf\">                    </span><span style=\"color: #008000; text-decoration-color: #008000\">INFO    </span>                                                               <a href=\"file://C:\\tools\\Manim\\Lib\\site-packages\\manim\\scene\\scene_file_writer.py\" target=\"_blank\"><span style=\"color: #7f7f7f; text-decoration-color: #7f7f7f\">scene_file_writer.py</span></a><span style=\"color: #7f7f7f; text-decoration-color: #7f7f7f\">:</span><a href=\"file://C:\\tools\\Manim\\Lib\\site-packages\\manim\\scene\\scene_file_writer.py#736\" target=\"_blank\"><span style=\"color: #7f7f7f; text-decoration-color: #7f7f7f\">736</span></a>\n",
       "<span style=\"color: #7fbfbf; text-decoration-color: #7fbfbf\">                    </span>         <span style=\"color: #808000; text-decoration-color: #808000; font-weight: bold\">File</span> ready at                                                 <span style=\"color: #7f7f7f; text-decoration-color: #7f7f7f\">                        </span>\n",
       "<span style=\"color: #7fbfbf; text-decoration-color: #7fbfbf\">                    </span>         <span style=\"color: #008000; text-decoration-color: #008000\">'C:\\Yokota_Adan\\Egyetem\\mszo\\IPA\\MSZO-IPA-2023\\Video1\\Bevezet</span> <span style=\"color: #7f7f7f; text-decoration-color: #7f7f7f\">                        </span>\n",
       "<span style=\"color: #7fbfbf; text-decoration-color: #7fbfbf\">                    </span>         <span style=\"color: #008000; text-decoration-color: #008000\">es,alapfogalmak\\media\\videos\\Bevezetes,alapfogalmak\\720p30\\al</span> <span style=\"color: #7f7f7f; text-decoration-color: #7f7f7f\">                        </span>\n",
       "<span style=\"color: #7fbfbf; text-decoration-color: #7fbfbf\">                    </span>         <span style=\"color: #008000; text-decoration-color: #008000\">ap.mp4'</span>                                                       <span style=\"color: #7f7f7f; text-decoration-color: #7f7f7f\">                        </span>\n",
       "<span style=\"color: #7fbfbf; text-decoration-color: #7fbfbf\">                    </span>                                                                       <span style=\"color: #7f7f7f; text-decoration-color: #7f7f7f\">                        </span>\n",
       "</pre>\n"
      ],
      "text/plain": [
       "\u001b[2;36m                   \u001b[0m\u001b[2;36m \u001b[0m\u001b[32mINFO    \u001b[0m                                                               \u001b]8;id=940378;file://C:\\tools\\Manim\\Lib\\site-packages\\manim\\scene\\scene_file_writer.py\u001b\\\u001b[2mscene_file_writer.py\u001b[0m\u001b]8;;\u001b\\\u001b[2m:\u001b[0m\u001b]8;id=933153;file://C:\\tools\\Manim\\Lib\\site-packages\\manim\\scene\\scene_file_writer.py#736\u001b\\\u001b[2m736\u001b[0m\u001b]8;;\u001b\\\n",
       "\u001b[2;36m                    \u001b[0m         \u001b[1;33mFile\u001b[0m ready at                                                 \u001b[2m                        \u001b[0m\n",
       "\u001b[2;36m                    \u001b[0m         \u001b[32m'C:\\Yokota_Adan\\Egyetem\\mszo\\IPA\\MSZO-IPA-2023\\Video1\\Bevezet\u001b[0m \u001b[2m                        \u001b[0m\n",
       "\u001b[2;36m                    \u001b[0m         \u001b[32mes,alapfogalmak\\media\\videos\\Bevezetes,alapfogalmak\\720p30\\al\u001b[0m \u001b[2m                        \u001b[0m\n",
       "\u001b[2;36m                    \u001b[0m         \u001b[32map.mp4'\u001b[0m                                                       \u001b[2m                        \u001b[0m\n",
       "\u001b[2;36m                    \u001b[0m                                                                       \u001b[2m                        \u001b[0m\n"
      ]
     },
     "metadata": {},
     "output_type": "display_data"
    },
    {
     "data": {
      "text/html": [
       "<pre style=\"white-space:pre;overflow-x:auto;line-height:normal;font-family:Menlo,'DejaVu Sans Mono',consolas,'Courier New',monospace\"><span style=\"color: #7fbfbf; text-decoration-color: #7fbfbf\">                    </span><span style=\"color: #008000; text-decoration-color: #008000\">INFO    </span> The partial movie directory is full <span style=\"font-weight: bold\">(</span>&gt; <span style=\"color: #008000; text-decoration-color: #008000\">100</span> files<span style=\"font-weight: bold\">)</span>. Therefore, <a href=\"file://C:\\tools\\Manim\\Lib\\site-packages\\manim\\scene\\scene_file_writer.py\" target=\"_blank\"><span style=\"color: #7f7f7f; text-decoration-color: #7f7f7f\">scene_file_writer.py</span></a><span style=\"color: #7f7f7f; text-decoration-color: #7f7f7f\">:</span><a href=\"file://C:\\tools\\Manim\\Lib\\site-packages\\manim\\scene\\scene_file_writer.py#708\" target=\"_blank\"><span style=\"color: #7f7f7f; text-decoration-color: #7f7f7f\">708</span></a>\n",
       "<span style=\"color: #7fbfbf; text-decoration-color: #7fbfbf\">                    </span>         manim has removed the <span style=\"color: #008000; text-decoration-color: #008000\">1</span> oldest <span style=\"color: #800080; text-decoration-color: #800080; font-weight: bold\">file</span><span style=\"font-weight: bold\">(</span>s<span style=\"font-weight: bold\">)</span>. You can change this   <span style=\"color: #7f7f7f; text-decoration-color: #7f7f7f\">                        </span>\n",
       "<span style=\"color: #7fbfbf; text-decoration-color: #7fbfbf\">                    </span>         behaviour by changing max_files_cached in config.             <span style=\"color: #7f7f7f; text-decoration-color: #7f7f7f\">                        </span>\n",
       "</pre>\n"
      ],
      "text/plain": [
       "\u001b[2;36m                   \u001b[0m\u001b[2;36m \u001b[0m\u001b[32mINFO    \u001b[0m The partial movie directory is full \u001b[1m(\u001b[0m> \u001b[32m100\u001b[0m files\u001b[1m)\u001b[0m. Therefore, \u001b]8;id=856412;file://C:\\tools\\Manim\\Lib\\site-packages\\manim\\scene\\scene_file_writer.py\u001b\\\u001b[2mscene_file_writer.py\u001b[0m\u001b]8;;\u001b\\\u001b[2m:\u001b[0m\u001b]8;id=366351;file://C:\\tools\\Manim\\Lib\\site-packages\\manim\\scene\\scene_file_writer.py#708\u001b\\\u001b[2m708\u001b[0m\u001b]8;;\u001b\\\n",
       "\u001b[2;36m                    \u001b[0m         manim has removed the \u001b[32m1\u001b[0m oldest \u001b[1;35mfile\u001b[0m\u001b[1m(\u001b[0ms\u001b[1m)\u001b[0m. You can change this   \u001b[2m                        \u001b[0m\n",
       "\u001b[2;36m                    \u001b[0m         behaviour by changing max_files_cached in config.             \u001b[2m                        \u001b[0m\n"
      ]
     },
     "metadata": {},
     "output_type": "display_data"
    },
    {
     "data": {
      "text/html": [
       "<pre style=\"white-space:pre;overflow-x:auto;line-height:normal;font-family:Menlo,'DejaVu Sans Mono',consolas,'Courier New',monospace\"><span style=\"color: #7fbfbf; text-decoration-color: #7fbfbf\">                    </span><span style=\"color: #008000; text-decoration-color: #008000\">INFO    </span> <span style=\"color: #808000; text-decoration-color: #808000; font-weight: bold\">Rendered</span> alap                                                             <a href=\"file://C:\\tools\\Manim\\Lib\\site-packages\\manim\\scene\\scene.py\" target=\"_blank\"><span style=\"color: #7f7f7f; text-decoration-color: #7f7f7f\">scene.py</span></a><span style=\"color: #7f7f7f; text-decoration-color: #7f7f7f\">:</span><a href=\"file://C:\\tools\\Manim\\Lib\\site-packages\\manim\\scene\\scene.py#241\" target=\"_blank\"><span style=\"color: #7f7f7f; text-decoration-color: #7f7f7f\">241</span></a>\n",
       "<span style=\"color: #7fbfbf; text-decoration-color: #7fbfbf\">                    </span>         <span style=\"color: #808000; text-decoration-color: #808000; font-weight: bold\">Played</span> <span style=\"color: #008000; text-decoration-color: #008000\">1</span> <span style=\"color: #808000; text-decoration-color: #808000; font-weight: bold\">animations</span>                                                       <span style=\"color: #7f7f7f; text-decoration-color: #7f7f7f\">            </span>\n",
       "</pre>\n"
      ],
      "text/plain": [
       "\u001b[2;36m                   \u001b[0m\u001b[2;36m \u001b[0m\u001b[32mINFO    \u001b[0m \u001b[1;33mRendered\u001b[0m alap                                                             \u001b]8;id=799393;file://C:\\tools\\Manim\\Lib\\site-packages\\manim\\scene\\scene.py\u001b\\\u001b[2mscene.py\u001b[0m\u001b]8;;\u001b\\\u001b[2m:\u001b[0m\u001b]8;id=348512;file://C:\\tools\\Manim\\Lib\\site-packages\\manim\\scene\\scene.py#241\u001b\\\u001b[2m241\u001b[0m\u001b]8;;\u001b\\\n",
       "\u001b[2;36m                    \u001b[0m         \u001b[1;33mPlayed\u001b[0m \u001b[32m1\u001b[0m \u001b[1;33manimations\u001b[0m                                                       \u001b[2m            \u001b[0m\n"
      ]
     },
     "metadata": {},
     "output_type": "display_data"
    },
    {
     "data": {
      "text/html": [
       "<video src=\"media\\jupyter\\alap@2023-03-30@22-34-41.mp4\" controls autoplay loop style=\"max-width: 60%;\"  >\n",
       "      Your browser does not support the <code>video</code> element.\n",
       "    </video>"
      ],
      "text/plain": [
       "<IPython.core.display.Video object>"
      ]
     },
     "metadata": {},
     "output_type": "display_data"
    }
   ],
   "source": [
    "%%manim -qm alap \n",
    "\n",
    "class alap(Scene):\n",
    "    def construct(self):\n",
    "        number_plane = NumberPlane(\n",
    "                background_line_style={\n",
    "                \"stroke_color\": TEAL,\n",
    "                \"stroke_width\": 4,\n",
    "                \"stroke_opacity\": 0.2\n",
    "            }\n",
    "        )\n",
    "        self.add(number_plane)\n",
    "        Title = Text(\"Alapfogalmak\",color=BLUE)\n",
    "        TitleUnderLine = Line(start=[-6,3,0],end=[-4,3,0],color=BLUE)\n",
    "        self.add(Title.shift(3.25 * UP + 5 * LEFT).scale(0.45),TitleUnderLine)\n",
    "\n",
    "\n",
    "        \n",
    "        self.wait(2)"
   ]
  }
 ],
 "metadata": {
  "kernelspec": {
   "display_name": "Python 3",
   "language": "python",
   "name": "python3"
  },
  "language_info": {
   "codemirror_mode": {
    "name": "ipython",
    "version": 3
   },
   "file_extension": ".py",
   "mimetype": "text/x-python",
   "name": "python",
   "nbconvert_exporter": "python",
   "pygments_lexer": "ipython3",
   "version": "3.10.10"
  },
  "orig_nbformat": 4,
  "vscode": {
   "interpreter": {
    "hash": "369f2c481f4da34e4445cda3fffd2e751bd1c4d706f27375911949ba6bb62e1c"
   }
  }
 },
 "nbformat": 4,
 "nbformat_minor": 2
}
